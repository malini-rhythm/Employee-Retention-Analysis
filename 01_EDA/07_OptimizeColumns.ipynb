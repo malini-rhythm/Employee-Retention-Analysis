{
 "cells": [
  {
   "cell_type": "markdown",
   "metadata": {},
   "source": [
    "Optimize Columns"
   ]
  },
  {
   "cell_type": "code",
   "execution_count": 2,
   "metadata": {},
   "outputs": [],
   "source": [
    "import sys, os\n",
    "project_libs = os.path.abspath('../libs')\n",
    "sys.path.append(project_libs)"
   ]
  },
  {
   "cell_type": "code",
   "execution_count": null,
   "metadata": {},
   "outputs": [],
   "source": [
    "import pandas as pd\n",
    "from InputOptimization import InputOptimization"
   ]
  },
  {
   "cell_type": "code",
   "execution_count": 4,
   "metadata": {},
   "outputs": [],
   "source": [
    "io = InputOptimization()"
   ]
  },
  {
   "cell_type": "code",
   "execution_count": 5,
   "metadata": {},
   "outputs": [
    {
     "data": {
      "text/html": [
       "<div>\n",
       "<style scoped>\n",
       "    .dataframe tbody tr th:only-of-type {\n",
       "        vertical-align: middle;\n",
       "    }\n",
       "\n",
       "    .dataframe tbody tr th {\n",
       "        vertical-align: top;\n",
       "    }\n",
       "\n",
       "    .dataframe thead th {\n",
       "        text-align: right;\n",
       "    }\n",
       "</style>\n",
       "<table border=\"1\" class=\"dataframe\">\n",
       "  <thead>\n",
       "    <tr style=\"text-align: right;\">\n",
       "      <th></th>\n",
       "      <th>Salary Date</th>\n",
       "      <th>Salary Month</th>\n",
       "      <th>Salary ID</th>\n",
       "      <th>Salary Status</th>\n",
       "      <th>Employee ID</th>\n",
       "      <th>Employee Name</th>\n",
       "      <th>Gender</th>\n",
       "      <th>Generation</th>\n",
       "      <th>Joining</th>\n",
       "      <th>Termination</th>\n",
       "      <th>...</th>\n",
       "      <th>Employee Grade</th>\n",
       "      <th>Location</th>\n",
       "      <th>Career Bucket</th>\n",
       "      <th>Age Bucket</th>\n",
       "      <th>Manager ID</th>\n",
       "      <th>Manager Name</th>\n",
       "      <th>Performance</th>\n",
       "      <th>Talent</th>\n",
       "      <th>Department</th>\n",
       "      <th>active_months</th>\n",
       "    </tr>\n",
       "  </thead>\n",
       "  <tbody>\n",
       "    <tr>\n",
       "      <th>0</th>\n",
       "      <td>2011-05-15</td>\n",
       "      <td>2011-05</td>\n",
       "      <td>100019_2011-05</td>\n",
       "      <td>Inactive</td>\n",
       "      <td>100019</td>\n",
       "      <td>Name_100019</td>\n",
       "      <td>Female</td>\n",
       "      <td>Millennials</td>\n",
       "      <td>2006-06-01</td>\n",
       "      <td>2011-05-01</td>\n",
       "      <td>...</td>\n",
       "      <td>Junior</td>\n",
       "      <td>Bengaluru</td>\n",
       "      <td>Below 30</td>\n",
       "      <td>26 To 30</td>\n",
       "      <td>102292</td>\n",
       "      <td>Name_102292</td>\n",
       "      <td>E</td>\n",
       "      <td>NaN</td>\n",
       "      <td>AC</td>\n",
       "      <td>59.0</td>\n",
       "    </tr>\n",
       "    <tr>\n",
       "      <th>1</th>\n",
       "      <td>2011-05-15</td>\n",
       "      <td>2011-05</td>\n",
       "      <td>100020_2011-05</td>\n",
       "      <td>Inactive</td>\n",
       "      <td>100020</td>\n",
       "      <td>Name_100020</td>\n",
       "      <td>Female</td>\n",
       "      <td>Millennials</td>\n",
       "      <td>2011-01-01</td>\n",
       "      <td>2011-05-15</td>\n",
       "      <td>...</td>\n",
       "      <td>Mid</td>\n",
       "      <td>Bengaluru</td>\n",
       "      <td>31 to 35</td>\n",
       "      <td>26 To 30</td>\n",
       "      <td>100411</td>\n",
       "      <td>Name_100411</td>\n",
       "      <td>E</td>\n",
       "      <td>NaN</td>\n",
       "      <td>AD</td>\n",
       "      <td>4.0</td>\n",
       "    </tr>\n",
       "    <tr>\n",
       "      <th>2</th>\n",
       "      <td>2011-05-15</td>\n",
       "      <td>2011-05</td>\n",
       "      <td>100043_2011-05</td>\n",
       "      <td>Inactive</td>\n",
       "      <td>100043</td>\n",
       "      <td>Name_100043</td>\n",
       "      <td>Male</td>\n",
       "      <td>Millennials</td>\n",
       "      <td>2009-02-01</td>\n",
       "      <td>2011-04-29</td>\n",
       "      <td>...</td>\n",
       "      <td>Junior</td>\n",
       "      <td>Bengaluru</td>\n",
       "      <td>Below 30</td>\n",
       "      <td>26 To 30</td>\n",
       "      <td>102304</td>\n",
       "      <td>Name_102304</td>\n",
       "      <td>E</td>\n",
       "      <td>NaN</td>\n",
       "      <td>AG</td>\n",
       "      <td>26.0</td>\n",
       "    </tr>\n",
       "    <tr>\n",
       "      <th>3</th>\n",
       "      <td>2011-05-15</td>\n",
       "      <td>2011-05</td>\n",
       "      <td>100063_2011-05</td>\n",
       "      <td>Inactive</td>\n",
       "      <td>100063</td>\n",
       "      <td>Name_100063</td>\n",
       "      <td>Male</td>\n",
       "      <td>Gen X</td>\n",
       "      <td>2000-10-01</td>\n",
       "      <td>2011-04-21</td>\n",
       "      <td>...</td>\n",
       "      <td>Senior</td>\n",
       "      <td>Bengaluru</td>\n",
       "      <td>Above 35</td>\n",
       "      <td>36 T0 40</td>\n",
       "      <td>102324</td>\n",
       "      <td>Name_102324</td>\n",
       "      <td>E</td>\n",
       "      <td>NaN</td>\n",
       "      <td>AI</td>\n",
       "      <td>126.0</td>\n",
       "    </tr>\n",
       "    <tr>\n",
       "      <th>4</th>\n",
       "      <td>2011-05-15</td>\n",
       "      <td>2011-05</td>\n",
       "      <td>100074_2011-05</td>\n",
       "      <td>Inactive</td>\n",
       "      <td>100074</td>\n",
       "      <td>Name_100074</td>\n",
       "      <td>Male</td>\n",
       "      <td>Millennials</td>\n",
       "      <td>2000-11-01</td>\n",
       "      <td>2011-05-11</td>\n",
       "      <td>...</td>\n",
       "      <td>Mid</td>\n",
       "      <td>Bengaluru</td>\n",
       "      <td>31 to 35</td>\n",
       "      <td>31 To 35</td>\n",
       "      <td>100619</td>\n",
       "      <td>Name_100619</td>\n",
       "      <td>E</td>\n",
       "      <td>NaN</td>\n",
       "      <td>AI</td>\n",
       "      <td>126.0</td>\n",
       "    </tr>\n",
       "  </tbody>\n",
       "</table>\n",
       "<p>5 rows × 23 columns</p>\n",
       "</div>"
      ],
      "text/plain": [
       "  Salary Date Salary Month       Salary ID Salary Status  Employee ID  \\\n",
       "0  2011-05-15      2011-05  100019_2011-05      Inactive       100019   \n",
       "1  2011-05-15      2011-05  100020_2011-05      Inactive       100020   \n",
       "2  2011-05-15      2011-05  100043_2011-05      Inactive       100043   \n",
       "3  2011-05-15      2011-05  100063_2011-05      Inactive       100063   \n",
       "4  2011-05-15      2011-05  100074_2011-05      Inactive       100074   \n",
       "\n",
       "  Employee Name  Gender   Generation     Joining Termination  ...  \\\n",
       "0   Name_100019  Female  Millennials  2006-06-01  2011-05-01  ...   \n",
       "1   Name_100020  Female  Millennials  2011-01-01  2011-05-15  ...   \n",
       "2   Name_100043    Male  Millennials  2009-02-01  2011-04-29  ...   \n",
       "3   Name_100063    Male        Gen X  2000-10-01  2011-04-21  ...   \n",
       "4   Name_100074    Male  Millennials  2000-11-01  2011-05-11  ...   \n",
       "\n",
       "  Employee Grade   Location Career Bucket Age Bucket Manager ID Manager Name  \\\n",
       "0         Junior  Bengaluru      Below 30   26 To 30     102292  Name_102292   \n",
       "1            Mid  Bengaluru      31 to 35   26 To 30     100411  Name_100411   \n",
       "2         Junior  Bengaluru      Below 30   26 To 30     102304  Name_102304   \n",
       "3         Senior  Bengaluru      Above 35   36 T0 40     102324  Name_102324   \n",
       "4            Mid  Bengaluru      31 to 35   31 To 35     100619  Name_100619   \n",
       "\n",
       "  Performance  Talent Department active_months  \n",
       "0           E     NaN         AC          59.0  \n",
       "1           E     NaN         AD           4.0  \n",
       "2           E     NaN         AG          26.0  \n",
       "3           E     NaN         AI         126.0  \n",
       "4           E     NaN         AI         126.0  \n",
       "\n",
       "[5 rows x 23 columns]"
      ]
     },
     "execution_count": 5,
     "metadata": {},
     "output_type": "execute_result"
    }
   ],
   "source": [
    "df = pd.read_csv('../00_Data/02_ResignedEmployees.csv')\n",
    "df.head()"
   ]
  },
  {
   "cell_type": "code",
   "execution_count": 6,
   "metadata": {},
   "outputs": [
    {
     "data": {
      "text/plain": [
       "(566, 23)"
      ]
     },
     "execution_count": 6,
     "metadata": {},
     "output_type": "execute_result"
    }
   ],
   "source": [
    "df.shape"
   ]
  },
  {
   "cell_type": "code",
   "execution_count": 7,
   "metadata": {},
   "outputs": [
    {
     "name": "stderr",
     "output_type": "stream",
     "text": [
      "Summarize dataset: 100%|██████████| 41/41 [00:00<00:00, 45.76it/s, Completed]                           \n",
      "Generate report structure: 100%|██████████| 1/1 [00:02<00:00,  2.15s/it]\n",
      "Render HTML: 100%|██████████| 1/1 [00:00<00:00,  2.48it/s]\n",
      "Export report to file: 100%|██████████| 1/1 [00:00<00:00, 289.18it/s]\n"
     ]
    }
   ],
   "source": [
    "io.generate_profile_report(df, '../01_EDA/reports', 'Resigned Employees')"
   ]
  },
  {
   "cell_type": "markdown",
   "metadata": {},
   "source": [
    "Remove Columns\n",
    "\n",
    "1. Salary Month\n",
    "2. Salary ID\n",
    "3. Salary Status\n",
    "4. Em ployee ID\n",
    "5. Employee Name\n",
    "6. Term Category\n",
    "7. Term Reason\n",
    "8. Manager Name\n",
    "9. Performance\n"
   ]
  },
  {
   "cell_type": "code",
   "execution_count": 8,
   "metadata": {},
   "outputs": [],
   "source": [
    "def remove_columns(df:pd.DataFrame, columns:list):\n",
    "    df = df.drop(columns=columns, axis=1)\n",
    "    return df"
   ]
  },
  {
   "cell_type": "code",
   "execution_count": 9,
   "metadata": {},
   "outputs": [
    {
     "data": {
      "text/plain": [
       "Index(['Salary Date', 'Salary Month', 'Salary ID', 'Salary Status',\n",
       "       'Employee ID', 'Employee Name', 'Gender', 'Generation', 'Joining',\n",
       "       'Termination', 'Term Category', 'Term Reason', 'Term Sub Reason',\n",
       "       'Employee Grade', 'Location', 'Career Bucket', 'Age Bucket',\n",
       "       'Manager ID', 'Manager Name', 'Performance', 'Talent', 'Department',\n",
       "       'active_months'],\n",
       "      dtype='object')"
      ]
     },
     "execution_count": 9,
     "metadata": {},
     "output_type": "execute_result"
    }
   ],
   "source": [
    "df.columns"
   ]
  },
  {
   "cell_type": "code",
   "execution_count": 10,
   "metadata": {},
   "outputs": [
    {
     "data": {
      "text/html": [
       "<div>\n",
       "<style scoped>\n",
       "    .dataframe tbody tr th:only-of-type {\n",
       "        vertical-align: middle;\n",
       "    }\n",
       "\n",
       "    .dataframe tbody tr th {\n",
       "        vertical-align: top;\n",
       "    }\n",
       "\n",
       "    .dataframe thead th {\n",
       "        text-align: right;\n",
       "    }\n",
       "</style>\n",
       "<table border=\"1\" class=\"dataframe\">\n",
       "  <thead>\n",
       "    <tr style=\"text-align: right;\">\n",
       "      <th></th>\n",
       "      <th>Gender</th>\n",
       "      <th>Generation</th>\n",
       "      <th>Term Sub Reason</th>\n",
       "      <th>Employee Grade</th>\n",
       "      <th>Location</th>\n",
       "      <th>Career Bucket</th>\n",
       "      <th>Age Bucket</th>\n",
       "      <th>Manager ID</th>\n",
       "      <th>Talent</th>\n",
       "      <th>Department</th>\n",
       "      <th>active_months</th>\n",
       "    </tr>\n",
       "  </thead>\n",
       "  <tbody>\n",
       "    <tr>\n",
       "      <th>0</th>\n",
       "      <td>Female</td>\n",
       "      <td>Millennials</td>\n",
       "      <td>Career Growth</td>\n",
       "      <td>Junior</td>\n",
       "      <td>Bengaluru</td>\n",
       "      <td>Below 30</td>\n",
       "      <td>26 To 30</td>\n",
       "      <td>102292</td>\n",
       "      <td>NaN</td>\n",
       "      <td>AC</td>\n",
       "      <td>59.0</td>\n",
       "    </tr>\n",
       "    <tr>\n",
       "      <th>1</th>\n",
       "      <td>Female</td>\n",
       "      <td>Millennials</td>\n",
       "      <td>Career Growth</td>\n",
       "      <td>Mid</td>\n",
       "      <td>Bengaluru</td>\n",
       "      <td>31 to 35</td>\n",
       "      <td>26 To 30</td>\n",
       "      <td>100411</td>\n",
       "      <td>NaN</td>\n",
       "      <td>AD</td>\n",
       "      <td>4.0</td>\n",
       "    </tr>\n",
       "    <tr>\n",
       "      <th>2</th>\n",
       "      <td>Male</td>\n",
       "      <td>Millennials</td>\n",
       "      <td>Career Growth</td>\n",
       "      <td>Junior</td>\n",
       "      <td>Bengaluru</td>\n",
       "      <td>Below 30</td>\n",
       "      <td>26 To 30</td>\n",
       "      <td>102304</td>\n",
       "      <td>NaN</td>\n",
       "      <td>AG</td>\n",
       "      <td>26.0</td>\n",
       "    </tr>\n",
       "    <tr>\n",
       "      <th>3</th>\n",
       "      <td>Male</td>\n",
       "      <td>Gen X</td>\n",
       "      <td>Career Growth</td>\n",
       "      <td>Senior</td>\n",
       "      <td>Bengaluru</td>\n",
       "      <td>Above 35</td>\n",
       "      <td>36 T0 40</td>\n",
       "      <td>102324</td>\n",
       "      <td>NaN</td>\n",
       "      <td>AI</td>\n",
       "      <td>126.0</td>\n",
       "    </tr>\n",
       "    <tr>\n",
       "      <th>4</th>\n",
       "      <td>Male</td>\n",
       "      <td>Millennials</td>\n",
       "      <td>Personal Reason</td>\n",
       "      <td>Mid</td>\n",
       "      <td>Bengaluru</td>\n",
       "      <td>31 to 35</td>\n",
       "      <td>31 To 35</td>\n",
       "      <td>100619</td>\n",
       "      <td>NaN</td>\n",
       "      <td>AI</td>\n",
       "      <td>126.0</td>\n",
       "    </tr>\n",
       "  </tbody>\n",
       "</table>\n",
       "</div>"
      ],
      "text/plain": [
       "   Gender   Generation  Term Sub Reason Employee Grade   Location  \\\n",
       "0  Female  Millennials    Career Growth         Junior  Bengaluru   \n",
       "1  Female  Millennials    Career Growth            Mid  Bengaluru   \n",
       "2    Male  Millennials    Career Growth         Junior  Bengaluru   \n",
       "3    Male        Gen X    Career Growth         Senior  Bengaluru   \n",
       "4    Male  Millennials  Personal Reason            Mid  Bengaluru   \n",
       "\n",
       "  Career Bucket Age Bucket  Manager ID Talent Department  active_months  \n",
       "0      Below 30   26 To 30      102292    NaN         AC           59.0  \n",
       "1      31 to 35   26 To 30      100411    NaN         AD            4.0  \n",
       "2      Below 30   26 To 30      102304    NaN         AG           26.0  \n",
       "3      Above 35   36 T0 40      102324    NaN         AI          126.0  \n",
       "4      31 to 35   31 To 35      100619    NaN         AI          126.0  "
      ]
     },
     "execution_count": 10,
     "metadata": {},
     "output_type": "execute_result"
    }
   ],
   "source": [
    "rem_cols = ['Salary Month', 'Salary ID', 'Salary Status',\n",
    "            'Employee ID', 'Employee Name', 'Term Category',\n",
    "            'Term Reason', 'Manager Name', 'Performance', 'Salary Date', 'Joining', 'Termination']\n",
    "df = remove_columns(df, rem_cols)\n",
    "df.head()"
   ]
  },
  {
   "cell_type": "code",
   "execution_count": 11,
   "metadata": {},
   "outputs": [],
   "source": [
    "df.to_csv('../00_Data/03_OptimizedColumns.csv', index=False)"
   ]
  },
  {
   "cell_type": "code",
   "execution_count": 12,
   "metadata": {},
   "outputs": [
    {
     "name": "stderr",
     "output_type": "stream",
     "text": [
      "Summarize dataset: 100%|██████████| 24/24 [00:00<00:00, 55.26it/s, Completed]                           \n",
      "Generate report structure: 100%|██████████| 1/1 [00:00<00:00,  1.31it/s]\n",
      "Render HTML: 100%|██████████| 1/1 [00:00<00:00,  5.79it/s]\n",
      "Export report to file: 100%|██████████| 1/1 [00:00<00:00, 665.76it/s]\n"
     ]
    }
   ],
   "source": [
    "io.generate_profile_report(df, '../01_EDA/reports/', 'Optimized Columns')"
   ]
  }
 ],
 "metadata": {
  "kernelspec": {
   "display_name": ".venv",
   "language": "python",
   "name": "python3"
  },
  "language_info": {
   "codemirror_mode": {
    "name": "ipython",
    "version": 3
   },
   "file_extension": ".py",
   "mimetype": "text/x-python",
   "name": "python",
   "nbconvert_exporter": "python",
   "pygments_lexer": "ipython3",
   "version": "3.12.4"
  }
 },
 "nbformat": 4,
 "nbformat_minor": 2
}
