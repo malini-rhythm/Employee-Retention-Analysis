{
 "cells": [
  {
   "cell_type": "code",
   "execution_count": 61,
   "metadata": {},
   "outputs": [],
   "source": [
    "# !pip install pandas"
   ]
  },
  {
   "cell_type": "code",
   "execution_count": 1,
   "metadata": {},
   "outputs": [],
   "source": [
    "import pandas as pd"
   ]
  },
  {
   "cell_type": "code",
   "execution_count": 2,
   "metadata": {},
   "outputs": [],
   "source": [
    "# 1. Do not disturb the Original Data \n",
    "# 2. DO not edit anything on the data manually"
   ]
  },
  {
   "cell_type": "code",
   "execution_count": 3,
   "metadata": {},
   "outputs": [
    {
     "data": {
      "text/html": [
       "<div>\n",
       "<style scoped>\n",
       "    .dataframe tbody tr th:only-of-type {\n",
       "        vertical-align: middle;\n",
       "    }\n",
       "\n",
       "    .dataframe tbody tr th {\n",
       "        vertical-align: top;\n",
       "    }\n",
       "\n",
       "    .dataframe thead th {\n",
       "        text-align: right;\n",
       "    }\n",
       "</style>\n",
       "<table border=\"1\" class=\"dataframe\">\n",
       "  <thead>\n",
       "    <tr style=\"text-align: right;\">\n",
       "      <th></th>\n",
       "      <th>Salary Date</th>\n",
       "      <th>Salary Month</th>\n",
       "      <th>Salary ID</th>\n",
       "      <th>Salary Status</th>\n",
       "      <th>Employee ID</th>\n",
       "      <th>Employee Name</th>\n",
       "      <th>Gender</th>\n",
       "      <th>Generation</th>\n",
       "      <th>Joining</th>\n",
       "      <th>Termination</th>\n",
       "      <th>...</th>\n",
       "      <th>Term Sub Reason</th>\n",
       "      <th>Employee Grade</th>\n",
       "      <th>Location</th>\n",
       "      <th>Career Bucket</th>\n",
       "      <th>Age Bucket</th>\n",
       "      <th>Manager ID</th>\n",
       "      <th>Manager Name</th>\n",
       "      <th>Performance</th>\n",
       "      <th>Talent</th>\n",
       "      <th>Department</th>\n",
       "    </tr>\n",
       "  </thead>\n",
       "  <tbody>\n",
       "    <tr>\n",
       "      <th>0</th>\n",
       "      <td>2011-05-15</td>\n",
       "      <td>2011-05</td>\n",
       "      <td>100001_2011-05</td>\n",
       "      <td>Active</td>\n",
       "      <td>100001</td>\n",
       "      <td>Name_100001</td>\n",
       "      <td>Male</td>\n",
       "      <td>Gen X</td>\n",
       "      <td>2001-07</td>\n",
       "      <td>NaN</td>\n",
       "      <td>...</td>\n",
       "      <td>NaN</td>\n",
       "      <td>Senior</td>\n",
       "      <td>Bengaluru</td>\n",
       "      <td>Above 35</td>\n",
       "      <td>41 T0 45</td>\n",
       "      <td>102286</td>\n",
       "      <td>Name_102286</td>\n",
       "      <td>E</td>\n",
       "      <td>NaN</td>\n",
       "      <td>AA</td>\n",
       "    </tr>\n",
       "    <tr>\n",
       "      <th>1</th>\n",
       "      <td>2011-05-15</td>\n",
       "      <td>2011-05</td>\n",
       "      <td>100002_2011-05</td>\n",
       "      <td>Active</td>\n",
       "      <td>100002</td>\n",
       "      <td>Name_100002</td>\n",
       "      <td>Male</td>\n",
       "      <td>Gen X</td>\n",
       "      <td>2001-09</td>\n",
       "      <td>NaN</td>\n",
       "      <td>...</td>\n",
       "      <td>NaN</td>\n",
       "      <td>Mid</td>\n",
       "      <td>Bengaluru</td>\n",
       "      <td>Above 35</td>\n",
       "      <td>36 T0 40</td>\n",
       "      <td>100001</td>\n",
       "      <td>Name_100001</td>\n",
       "      <td>D</td>\n",
       "      <td>A</td>\n",
       "      <td>AA</td>\n",
       "    </tr>\n",
       "    <tr>\n",
       "      <th>2</th>\n",
       "      <td>2011-05-15</td>\n",
       "      <td>2011-05</td>\n",
       "      <td>100003_2011-05</td>\n",
       "      <td>Active</td>\n",
       "      <td>100003</td>\n",
       "      <td>Name_100003</td>\n",
       "      <td>Female</td>\n",
       "      <td>Gen X</td>\n",
       "      <td>2008-08</td>\n",
       "      <td>NaN</td>\n",
       "      <td>...</td>\n",
       "      <td>NaN</td>\n",
       "      <td>Mid</td>\n",
       "      <td>Bengaluru</td>\n",
       "      <td>Above 35</td>\n",
       "      <td>36 T0 40</td>\n",
       "      <td>100001</td>\n",
       "      <td>Name_100001</td>\n",
       "      <td>C</td>\n",
       "      <td>B</td>\n",
       "      <td>AA</td>\n",
       "    </tr>\n",
       "    <tr>\n",
       "      <th>3</th>\n",
       "      <td>2011-05-15</td>\n",
       "      <td>2011-05</td>\n",
       "      <td>100004_2011-05</td>\n",
       "      <td>Active</td>\n",
       "      <td>100004</td>\n",
       "      <td>Name_100004</td>\n",
       "      <td>Female</td>\n",
       "      <td>Millennials</td>\n",
       "      <td>2008-07</td>\n",
       "      <td>NaN</td>\n",
       "      <td>...</td>\n",
       "      <td>NaN</td>\n",
       "      <td>Junior</td>\n",
       "      <td>Bengaluru</td>\n",
       "      <td>Below 30</td>\n",
       "      <td>26 To 30</td>\n",
       "      <td>100001</td>\n",
       "      <td>Name_100001</td>\n",
       "      <td>E</td>\n",
       "      <td>NaN</td>\n",
       "      <td>AA</td>\n",
       "    </tr>\n",
       "    <tr>\n",
       "      <th>4</th>\n",
       "      <td>2011-06-12</td>\n",
       "      <td>2011-06</td>\n",
       "      <td>100001_2011-06</td>\n",
       "      <td>Active</td>\n",
       "      <td>100001</td>\n",
       "      <td>Name_100001</td>\n",
       "      <td>Male</td>\n",
       "      <td>Gen X</td>\n",
       "      <td>2001-07</td>\n",
       "      <td>NaN</td>\n",
       "      <td>...</td>\n",
       "      <td>NaN</td>\n",
       "      <td>Senior</td>\n",
       "      <td>Bengaluru</td>\n",
       "      <td>Above 35</td>\n",
       "      <td>41 T0 45</td>\n",
       "      <td>102286</td>\n",
       "      <td>Name_102286</td>\n",
       "      <td>E</td>\n",
       "      <td>NaN</td>\n",
       "      <td>AA</td>\n",
       "    </tr>\n",
       "  </tbody>\n",
       "</table>\n",
       "<p>5 rows × 22 columns</p>\n",
       "</div>"
      ],
      "text/plain": [
       "  Salary Date Salary Month       Salary ID Salary Status  Employee ID  \\\n",
       "0  2011-05-15      2011-05  100001_2011-05        Active       100001   \n",
       "1  2011-05-15      2011-05  100002_2011-05        Active       100002   \n",
       "2  2011-05-15      2011-05  100003_2011-05        Active       100003   \n",
       "3  2011-05-15      2011-05  100004_2011-05        Active       100004   \n",
       "4  2011-06-12      2011-06  100001_2011-06        Active       100001   \n",
       "\n",
       "  Employee Name  Gender   Generation  Joining Termination  ...  \\\n",
       "0   Name_100001    Male        Gen X  2001-07         NaN  ...   \n",
       "1   Name_100002    Male        Gen X  2001-09         NaN  ...   \n",
       "2   Name_100003  Female        Gen X  2008-08         NaN  ...   \n",
       "3   Name_100004  Female  Millennials  2008-07         NaN  ...   \n",
       "4   Name_100001    Male        Gen X  2001-07         NaN  ...   \n",
       "\n",
       "  Term Sub Reason Employee Grade   Location Career Bucket Age Bucket  \\\n",
       "0             NaN         Senior  Bengaluru      Above 35   41 T0 45   \n",
       "1             NaN            Mid  Bengaluru      Above 35   36 T0 40   \n",
       "2             NaN            Mid  Bengaluru      Above 35   36 T0 40   \n",
       "3             NaN         Junior  Bengaluru      Below 30   26 To 30   \n",
       "4             NaN         Senior  Bengaluru      Above 35   41 T0 45   \n",
       "\n",
       "  Manager ID Manager Name  Performance Talent Department  \n",
       "0     102286  Name_102286            E    NaN         AA  \n",
       "1     100001  Name_100001            D      A         AA  \n",
       "2     100001  Name_100001            C      B         AA  \n",
       "3     100001  Name_100001            E    NaN         AA  \n",
       "4     102286  Name_102286            E    NaN         AA  \n",
       "\n",
       "[5 rows x 22 columns]"
      ]
     },
     "execution_count": 3,
     "metadata": {},
     "output_type": "execute_result"
    }
   ],
   "source": [
    "df = pd.read_csv('../00_Data/data.csv')\n",
    "df.head()"
   ]
  },
  {
   "cell_type": "code",
   "execution_count": 4,
   "metadata": {},
   "outputs": [],
   "source": [
    "pd.set_option('display.max_columns', None)"
   ]
  },
  {
   "cell_type": "code",
   "execution_count": 5,
   "metadata": {},
   "outputs": [
    {
     "data": {
      "text/html": [
       "<div>\n",
       "<style scoped>\n",
       "    .dataframe tbody tr th:only-of-type {\n",
       "        vertical-align: middle;\n",
       "    }\n",
       "\n",
       "    .dataframe tbody tr th {\n",
       "        vertical-align: top;\n",
       "    }\n",
       "\n",
       "    .dataframe thead th {\n",
       "        text-align: right;\n",
       "    }\n",
       "</style>\n",
       "<table border=\"1\" class=\"dataframe\">\n",
       "  <thead>\n",
       "    <tr style=\"text-align: right;\">\n",
       "      <th></th>\n",
       "      <th>Salary Date</th>\n",
       "      <th>Salary Month</th>\n",
       "      <th>Salary ID</th>\n",
       "      <th>Salary Status</th>\n",
       "      <th>Employee ID</th>\n",
       "      <th>Employee Name</th>\n",
       "      <th>Gender</th>\n",
       "      <th>Generation</th>\n",
       "      <th>Joining</th>\n",
       "      <th>Termination</th>\n",
       "      <th>Term Category</th>\n",
       "      <th>Term Reason</th>\n",
       "      <th>Term Sub Reason</th>\n",
       "      <th>Employee Grade</th>\n",
       "      <th>Location</th>\n",
       "      <th>Career Bucket</th>\n",
       "      <th>Age Bucket</th>\n",
       "      <th>Manager ID</th>\n",
       "      <th>Manager Name</th>\n",
       "      <th>Performance</th>\n",
       "      <th>Talent</th>\n",
       "      <th>Department</th>\n",
       "    </tr>\n",
       "  </thead>\n",
       "  <tbody>\n",
       "    <tr>\n",
       "      <th>0</th>\n",
       "      <td>2011-05-15</td>\n",
       "      <td>2011-05</td>\n",
       "      <td>100001_2011-05</td>\n",
       "      <td>Active</td>\n",
       "      <td>100001</td>\n",
       "      <td>Name_100001</td>\n",
       "      <td>Male</td>\n",
       "      <td>Gen X</td>\n",
       "      <td>2001-07</td>\n",
       "      <td>NaN</td>\n",
       "      <td>NaN</td>\n",
       "      <td>NaN</td>\n",
       "      <td>NaN</td>\n",
       "      <td>Senior</td>\n",
       "      <td>Bengaluru</td>\n",
       "      <td>Above 35</td>\n",
       "      <td>41 T0 45</td>\n",
       "      <td>102286</td>\n",
       "      <td>Name_102286</td>\n",
       "      <td>E</td>\n",
       "      <td>NaN</td>\n",
       "      <td>AA</td>\n",
       "    </tr>\n",
       "    <tr>\n",
       "      <th>1</th>\n",
       "      <td>2011-05-15</td>\n",
       "      <td>2011-05</td>\n",
       "      <td>100002_2011-05</td>\n",
       "      <td>Active</td>\n",
       "      <td>100002</td>\n",
       "      <td>Name_100002</td>\n",
       "      <td>Male</td>\n",
       "      <td>Gen X</td>\n",
       "      <td>2001-09</td>\n",
       "      <td>NaN</td>\n",
       "      <td>NaN</td>\n",
       "      <td>NaN</td>\n",
       "      <td>NaN</td>\n",
       "      <td>Mid</td>\n",
       "      <td>Bengaluru</td>\n",
       "      <td>Above 35</td>\n",
       "      <td>36 T0 40</td>\n",
       "      <td>100001</td>\n",
       "      <td>Name_100001</td>\n",
       "      <td>D</td>\n",
       "      <td>A</td>\n",
       "      <td>AA</td>\n",
       "    </tr>\n",
       "    <tr>\n",
       "      <th>2</th>\n",
       "      <td>2011-05-15</td>\n",
       "      <td>2011-05</td>\n",
       "      <td>100003_2011-05</td>\n",
       "      <td>Active</td>\n",
       "      <td>100003</td>\n",
       "      <td>Name_100003</td>\n",
       "      <td>Female</td>\n",
       "      <td>Gen X</td>\n",
       "      <td>2008-08</td>\n",
       "      <td>NaN</td>\n",
       "      <td>NaN</td>\n",
       "      <td>NaN</td>\n",
       "      <td>NaN</td>\n",
       "      <td>Mid</td>\n",
       "      <td>Bengaluru</td>\n",
       "      <td>Above 35</td>\n",
       "      <td>36 T0 40</td>\n",
       "      <td>100001</td>\n",
       "      <td>Name_100001</td>\n",
       "      <td>C</td>\n",
       "      <td>B</td>\n",
       "      <td>AA</td>\n",
       "    </tr>\n",
       "    <tr>\n",
       "      <th>3</th>\n",
       "      <td>2011-05-15</td>\n",
       "      <td>2011-05</td>\n",
       "      <td>100004_2011-05</td>\n",
       "      <td>Active</td>\n",
       "      <td>100004</td>\n",
       "      <td>Name_100004</td>\n",
       "      <td>Female</td>\n",
       "      <td>Millennials</td>\n",
       "      <td>2008-07</td>\n",
       "      <td>NaN</td>\n",
       "      <td>NaN</td>\n",
       "      <td>NaN</td>\n",
       "      <td>NaN</td>\n",
       "      <td>Junior</td>\n",
       "      <td>Bengaluru</td>\n",
       "      <td>Below 30</td>\n",
       "      <td>26 To 30</td>\n",
       "      <td>100001</td>\n",
       "      <td>Name_100001</td>\n",
       "      <td>E</td>\n",
       "      <td>NaN</td>\n",
       "      <td>AA</td>\n",
       "    </tr>\n",
       "    <tr>\n",
       "      <th>4</th>\n",
       "      <td>2011-06-12</td>\n",
       "      <td>2011-06</td>\n",
       "      <td>100001_2011-06</td>\n",
       "      <td>Active</td>\n",
       "      <td>100001</td>\n",
       "      <td>Name_100001</td>\n",
       "      <td>Male</td>\n",
       "      <td>Gen X</td>\n",
       "      <td>2001-07</td>\n",
       "      <td>NaN</td>\n",
       "      <td>NaN</td>\n",
       "      <td>NaN</td>\n",
       "      <td>NaN</td>\n",
       "      <td>Senior</td>\n",
       "      <td>Bengaluru</td>\n",
       "      <td>Above 35</td>\n",
       "      <td>41 T0 45</td>\n",
       "      <td>102286</td>\n",
       "      <td>Name_102286</td>\n",
       "      <td>E</td>\n",
       "      <td>NaN</td>\n",
       "      <td>AA</td>\n",
       "    </tr>\n",
       "  </tbody>\n",
       "</table>\n",
       "</div>"
      ],
      "text/plain": [
       "  Salary Date Salary Month       Salary ID Salary Status  Employee ID  \\\n",
       "0  2011-05-15      2011-05  100001_2011-05        Active       100001   \n",
       "1  2011-05-15      2011-05  100002_2011-05        Active       100002   \n",
       "2  2011-05-15      2011-05  100003_2011-05        Active       100003   \n",
       "3  2011-05-15      2011-05  100004_2011-05        Active       100004   \n",
       "4  2011-06-12      2011-06  100001_2011-06        Active       100001   \n",
       "\n",
       "  Employee Name  Gender   Generation  Joining Termination Term Category  \\\n",
       "0   Name_100001    Male        Gen X  2001-07         NaN           NaN   \n",
       "1   Name_100002    Male        Gen X  2001-09         NaN           NaN   \n",
       "2   Name_100003  Female        Gen X  2008-08         NaN           NaN   \n",
       "3   Name_100004  Female  Millennials  2008-07         NaN           NaN   \n",
       "4   Name_100001    Male        Gen X  2001-07         NaN           NaN   \n",
       "\n",
       "  Term Reason Term Sub Reason Employee Grade   Location Career Bucket  \\\n",
       "0         NaN             NaN         Senior  Bengaluru      Above 35   \n",
       "1         NaN             NaN            Mid  Bengaluru      Above 35   \n",
       "2         NaN             NaN            Mid  Bengaluru      Above 35   \n",
       "3         NaN             NaN         Junior  Bengaluru      Below 30   \n",
       "4         NaN             NaN         Senior  Bengaluru      Above 35   \n",
       "\n",
       "  Age Bucket  Manager ID Manager Name Performance Talent Department  \n",
       "0   41 T0 45      102286  Name_102286           E    NaN         AA  \n",
       "1   36 T0 40      100001  Name_100001           D      A         AA  \n",
       "2   36 T0 40      100001  Name_100001           C      B         AA  \n",
       "3   26 To 30      100001  Name_100001           E    NaN         AA  \n",
       "4   41 T0 45      102286  Name_102286           E    NaN         AA  "
      ]
     },
     "execution_count": 5,
     "metadata": {},
     "output_type": "execute_result"
    }
   ],
   "source": [
    "df.head()"
   ]
  },
  {
   "cell_type": "code",
   "execution_count": 6,
   "metadata": {},
   "outputs": [
    {
     "data": {
      "text/plain": [
       "Index(['Salary Date', 'Salary Month', 'Salary ID', 'Salary Status',\n",
       "       'Employee ID', 'Employee Name', 'Gender', 'Generation', 'Joining',\n",
       "       'Termination', 'Term Category', 'Term Reason', 'Term Sub Reason',\n",
       "       'Employee Grade', 'Location', 'Career Bucket', 'Age Bucket',\n",
       "       'Manager ID', 'Manager Name', 'Performance', 'Talent', 'Department'],\n",
       "      dtype='object')"
      ]
     },
     "execution_count": 6,
     "metadata": {},
     "output_type": "execute_result"
    }
   ],
   "source": [
    "# List out All Columns\n",
    "df.columns"
   ]
  },
  {
   "cell_type": "markdown",
   "metadata": {},
   "source": [
    "1. Salary Date"
   ]
  },
  {
   "cell_type": "code",
   "execution_count": 7,
   "metadata": {},
   "outputs": [
    {
     "data": {
      "text/plain": [
       "count          78377\n",
       "unique            66\n",
       "top       2016-10-15\n",
       "freq            1351\n",
       "Name: Salary Date, dtype: object"
      ]
     },
     "execution_count": 7,
     "metadata": {},
     "output_type": "execute_result"
    }
   ],
   "source": [
    "df['Salary Date'].describe()"
   ]
  },
  {
   "cell_type": "code",
   "execution_count": 8,
   "metadata": {},
   "outputs": [
    {
     "data": {
      "text/plain": [
       "('2011-05-15', '2016-10-15')"
      ]
     },
     "execution_count": 8,
     "metadata": {},
     "output_type": "execute_result"
    }
   ],
   "source": [
    "# Date Range {m/d/y}\n",
    "df['Salary Date'].min(), df['Salary Date'].max()"
   ]
  },
  {
   "cell_type": "markdown",
   "metadata": {},
   "source": [
    "2. Salary Month"
   ]
  },
  {
   "cell_type": "code",
   "execution_count": 9,
   "metadata": {},
   "outputs": [
    {
     "data": {
      "text/plain": [
       "count       78377\n",
       "unique         66\n",
       "top       2016-10\n",
       "freq         1351\n",
       "Name: Salary Month, dtype: object"
      ]
     },
     "execution_count": 9,
     "metadata": {},
     "output_type": "execute_result"
    }
   ],
   "source": [
    "df['Salary Month'].describe()"
   ]
  },
  {
   "cell_type": "markdown",
   "metadata": {},
   "source": [
    "3. Salary ID"
   ]
  },
  {
   "cell_type": "code",
   "execution_count": 11,
   "metadata": {},
   "outputs": [
    {
     "data": {
      "text/plain": [
       "count              78377\n",
       "unique             78377\n",
       "top       100001_2011-05\n",
       "freq                   1\n",
       "Name: Salary ID, dtype: object"
      ]
     },
     "execution_count": 11,
     "metadata": {},
     "output_type": "execute_result"
    }
   ],
   "source": [
    "df['Salary ID'].describe()"
   ]
  },
  {
   "cell_type": "markdown",
   "metadata": {},
   "source": [
    "Salary Status"
   ]
  },
  {
   "cell_type": "code",
   "execution_count": 12,
   "metadata": {},
   "outputs": [
    {
     "data": {
      "text/plain": [
       "count      78377\n",
       "unique         2\n",
       "top       Active\n",
       "freq       77791\n",
       "Name: Salary Status, dtype: object"
      ]
     },
     "execution_count": 12,
     "metadata": {},
     "output_type": "execute_result"
    }
   ],
   "source": [
    "df['Salary Status'].describe()"
   ]
  },
  {
   "cell_type": "code",
   "execution_count": 13,
   "metadata": {},
   "outputs": [
    {
     "data": {
      "text/plain": [
       "array(['Active', 'Inactive'], dtype=object)"
      ]
     },
     "execution_count": 13,
     "metadata": {},
     "output_type": "execute_result"
    }
   ],
   "source": [
    "df['Salary Status'].unique()"
   ]
  },
  {
   "cell_type": "code",
   "execution_count": 14,
   "metadata": {},
   "outputs": [
    {
     "data": {
      "text/plain": [
       "Salary Status\n",
       "Active      77791\n",
       "Inactive      586\n",
       "Name: count, dtype: int64"
      ]
     },
     "execution_count": 14,
     "metadata": {},
     "output_type": "execute_result"
    }
   ],
   "source": [
    "df['Salary Status'].value_counts()"
   ]
  },
  {
   "cell_type": "markdown",
   "metadata": {},
   "source": [
    "Employee ID"
   ]
  },
  {
   "cell_type": "code",
   "execution_count": 15,
   "metadata": {},
   "outputs": [
    {
     "data": {
      "text/plain": [
       "count     78377.000000\n",
       "mean     101009.592585\n",
       "std         587.206395\n",
       "min      100001.000000\n",
       "25%      100511.000000\n",
       "50%      101006.000000\n",
       "75%      101493.000000\n",
       "max      102285.000000\n",
       "Name: Employee ID, dtype: float64"
      ]
     },
     "execution_count": 15,
     "metadata": {},
     "output_type": "execute_result"
    }
   ],
   "source": [
    "df['Employee ID'].describe()"
   ]
  },
  {
   "cell_type": "code",
   "execution_count": 16,
   "metadata": {},
   "outputs": [
    {
     "data": {
      "text/plain": [
       "Index                  132\n",
       "Salary Date        4624243\n",
       "Salary Month       4389112\n",
       "Salary ID          4937751\n",
       "Salary Status      4311907\n",
       "Employee ID         627016\n",
       "Employee Name      4702620\n",
       "Gender             4186799\n",
       "Generation         4550598\n",
       "Joining            4389112\n",
       "Termination        2523886\n",
       "Term Category      2523300\n",
       "Term Reason        2530332\n",
       "Term Sub Reason    2526214\n",
       "Employee Grade     4188809\n",
       "Location           4537052\n",
       "Career Bucket      4467489\n",
       "Age Bucket         4467315\n",
       "Manager ID          627016\n",
       "Manager Name       4702620\n",
       "Performance        3918850\n",
       "Talent             3381802\n",
       "Department         3997227\n",
       "dtype: int64"
      ]
     },
     "execution_count": 16,
     "metadata": {},
     "output_type": "execute_result"
    }
   ],
   "source": [
    "# Memory Usage\n",
    "\n",
    "df.memory_usage(deep=True)"
   ]
  },
  {
   "cell_type": "code",
   "execution_count": 17,
   "metadata": {},
   "outputs": [
    {
     "data": {
      "text/plain": [
       "Index                  132\n",
       "Salary Date        4624243\n",
       "Salary Month       4389112\n",
       "Salary ID          4937751\n",
       "Salary Status      4311907\n",
       "Employee ID         241122\n",
       "Employee Name      4702620\n",
       "Gender             4186799\n",
       "Generation         4550598\n",
       "Joining            4389112\n",
       "Termination        2523886\n",
       "Term Category      2523300\n",
       "Term Reason        2530332\n",
       "Term Sub Reason    2526214\n",
       "Employee Grade     4188809\n",
       "Location           4537052\n",
       "Career Bucket      4467489\n",
       "Age Bucket         4467315\n",
       "Manager ID          627016\n",
       "Manager Name       4702620\n",
       "Performance        3918850\n",
       "Talent             3381802\n",
       "Department         3997227\n",
       "dtype: int64"
      ]
     },
     "execution_count": 17,
     "metadata": {},
     "output_type": "execute_result"
    }
   ],
   "source": [
    "# Change the Category Type\n",
    "df['Employee ID'] = df['Employee ID'].astype('category')\n",
    "df.memory_usage(deep=True)"
   ]
  },
  {
   "cell_type": "code",
   "execution_count": 19,
   "metadata": {},
   "outputs": [
    {
     "data": {
      "text/plain": [
       "Index                  132\n",
       "Salary Date        4624243\n",
       "Salary Month       4389112\n",
       "Salary ID          4937751\n",
       "Salary Status      4311907\n",
       "Employee ID        4310735\n",
       "Employee Name      4702620\n",
       "Gender             4186799\n",
       "Generation         4550598\n",
       "Joining            4389112\n",
       "Termination        2523886\n",
       "Term Category      2523300\n",
       "Term Reason        2530332\n",
       "Term Sub Reason    2526214\n",
       "Employee Grade     4188809\n",
       "Location           4537052\n",
       "Career Bucket      4467489\n",
       "Age Bucket         4467315\n",
       "Manager ID          627016\n",
       "Manager Name       4702620\n",
       "Performance        3918850\n",
       "Talent             3381802\n",
       "Department         3997227\n",
       "dtype: int64"
      ]
     },
     "execution_count": 19,
     "metadata": {},
     "output_type": "execute_result"
    }
   ],
   "source": [
    "# Change to String Type\n",
    "df['Employee ID'] = df['Employee ID'].astype('string')\n",
    "df.memory_usage(deep=True)"
   ]
  },
  {
   "cell_type": "markdown",
   "metadata": {},
   "source": [
    "Best Choice - Category Type"
   ]
  },
  {
   "cell_type": "code",
   "execution_count": 21,
   "metadata": {},
   "outputs": [],
   "source": [
    "# Change the Category Type\n",
    "df['Employee ID'] = df['Employee ID'].astype('category')"
   ]
  },
  {
   "cell_type": "code",
   "execution_count": 22,
   "metadata": {},
   "outputs": [
    {
     "data": {
      "text/plain": [
       "count      78377\n",
       "unique      2285\n",
       "top       101300\n",
       "freq          66\n",
       "Name: Employee ID, dtype: object"
      ]
     },
     "execution_count": 22,
     "metadata": {},
     "output_type": "execute_result"
    }
   ],
   "source": [
    "df['Employee ID'].describe()"
   ]
  },
  {
   "cell_type": "code",
   "execution_count": 23,
   "metadata": {},
   "outputs": [],
   "source": [
    "# We can understand from unique values, there are row which are repeating \n",
    "# multiple times for the same employees due to every month salary\n",
    "# There are totally 2285 employees"
   ]
  },
  {
   "cell_type": "markdown",
   "metadata": {},
   "source": [
    "Employee Name"
   ]
  },
  {
   "cell_type": "code",
   "execution_count": 24,
   "metadata": {},
   "outputs": [
    {
     "data": {
      "text/plain": [
       "count           78377\n",
       "unique           2285\n",
       "top       Name_101300\n",
       "freq               66\n",
       "Name: Employee Name, dtype: object"
      ]
     },
     "execution_count": 24,
     "metadata": {},
     "output_type": "execute_result"
    }
   ],
   "source": [
    "df['Employee Name'].describe()"
   ]
  },
  {
   "cell_type": "markdown",
   "metadata": {},
   "source": [
    "Gender"
   ]
  },
  {
   "cell_type": "code",
   "execution_count": 26,
   "metadata": {},
   "outputs": [
    {
     "data": {
      "text/plain": [
       "count     78377\n",
       "unique        2\n",
       "top        Male\n",
       "freq      61968\n",
       "Name: Gender, dtype: object"
      ]
     },
     "execution_count": 26,
     "metadata": {},
     "output_type": "execute_result"
    }
   ],
   "source": [
    "df['Gender'].describe()"
   ]
  },
  {
   "cell_type": "code",
   "execution_count": 27,
   "metadata": {},
   "outputs": [
    {
     "data": {
      "text/plain": [
       "Gender\n",
       "Male      79.064011\n",
       "Female    20.935989\n",
       "Name: proportion, dtype: float64"
      ]
     },
     "execution_count": 27,
     "metadata": {},
     "output_type": "execute_result"
    }
   ],
   "source": [
    "df['Gender'].value_counts(normalize=True) * 100"
   ]
  },
  {
   "cell_type": "code",
   "execution_count": 28,
   "metadata": {},
   "outputs": [],
   "source": [
    "# Totally 79% Male Employees and  21% Female Employees are working"
   ]
  },
  {
   "cell_type": "markdown",
   "metadata": {},
   "source": [
    "Generation"
   ]
  },
  {
   "cell_type": "code",
   "execution_count": 29,
   "metadata": {},
   "outputs": [
    {
     "data": {
      "text/plain": [
       "count           78377\n",
       "unique              4\n",
       "top       Millennials\n",
       "freq            52494\n",
       "Name: Generation, dtype: object"
      ]
     },
     "execution_count": 29,
     "metadata": {},
     "output_type": "execute_result"
    }
   ],
   "source": [
    "df['Generation'].describe()"
   ]
  },
  {
   "cell_type": "code",
   "execution_count": 30,
   "metadata": {},
   "outputs": [
    {
     "data": {
      "text/plain": [
       "array(['Gen X', 'Millennials', 'Gen Z', 'Baby Boomers'], dtype=object)"
      ]
     },
     "execution_count": 30,
     "metadata": {},
     "output_type": "execute_result"
    }
   ],
   "source": [
    "df['Generation'].unique()"
   ]
  },
  {
   "cell_type": "code",
   "execution_count": 31,
   "metadata": {},
   "outputs": [
    {
     "data": {
      "text/plain": [
       "Generation\n",
       "Millennials     52494\n",
       "Gen X           24368\n",
       "Gen Z            1047\n",
       "Baby Boomers      468\n",
       "Name: count, dtype: int64"
      ]
     },
     "execution_count": 31,
     "metadata": {},
     "output_type": "execute_result"
    }
   ],
   "source": [
    "df['Generation'].value_counts()"
   ]
  },
  {
   "cell_type": "markdown",
   "metadata": {},
   "source": [
    "Joining"
   ]
  },
  {
   "cell_type": "code",
   "execution_count": 32,
   "metadata": {},
   "outputs": [
    {
     "data": {
      "text/plain": [
       "count       78377\n",
       "unique        241\n",
       "top       2006-10\n",
       "freq         1533\n",
       "Name: Joining, dtype: object"
      ]
     },
     "execution_count": 32,
     "metadata": {},
     "output_type": "execute_result"
    }
   ],
   "source": [
    "df['Joining'].describe()"
   ]
  },
  {
   "cell_type": "markdown",
   "metadata": {},
   "source": [
    "Termination"
   ]
  },
  {
   "cell_type": "code",
   "execution_count": 34,
   "metadata": {},
   "outputs": [
    {
     "data": {
      "text/plain": [
       "count            586\n",
       "unique           410\n",
       "top       2012-07-16\n",
       "freq               9\n",
       "Name: Termination, dtype: object"
      ]
     },
     "execution_count": 34,
     "metadata": {},
     "output_type": "execute_result"
    }
   ],
   "source": [
    "df['Termination'].describe()"
   ]
  },
  {
   "cell_type": "code",
   "execution_count": 35,
   "metadata": {},
   "outputs": [],
   "source": [
    "# Employee terminated date given, 9 employees max resigned in a same day\n",
    "# Joining and Termination are important columns for our prediction"
   ]
  },
  {
   "cell_type": "markdown",
   "metadata": {},
   "source": [
    "Term Category"
   ]
  },
  {
   "cell_type": "code",
   "execution_count": 36,
   "metadata": {},
   "outputs": [
    {
     "data": {
      "text/plain": [
       "count           586\n",
       "unique            1\n",
       "top       VOLUNTARY\n",
       "freq            586\n",
       "Name: Term Category, dtype: object"
      ]
     },
     "execution_count": 36,
     "metadata": {},
     "output_type": "execute_result"
    }
   ],
   "source": [
    "df['Term Category'].describe()"
   ]
  },
  {
   "cell_type": "code",
   "execution_count": 37,
   "metadata": {},
   "outputs": [
    {
     "data": {
      "text/plain": [
       "Term Category\n",
       "VOLUNTARY    586\n",
       "Name: count, dtype: int64"
      ]
     },
     "execution_count": 37,
     "metadata": {},
     "output_type": "execute_result"
    }
   ],
   "source": [
    "df['Term Category'].value_counts()"
   ]
  },
  {
   "cell_type": "markdown",
   "metadata": {},
   "source": [
    "Term Reason"
   ]
  },
  {
   "cell_type": "code",
   "execution_count": 38,
   "metadata": {},
   "outputs": [
    {
     "data": {
      "text/plain": [
       "count                       586\n",
       "unique                        1\n",
       "top       Voluntary Termination\n",
       "freq                        586\n",
       "Name: Term Reason, dtype: object"
      ]
     },
     "execution_count": 38,
     "metadata": {},
     "output_type": "execute_result"
    }
   ],
   "source": [
    "df['Term Reason'].describe()"
   ]
  },
  {
   "cell_type": "markdown",
   "metadata": {},
   "source": [
    "Term Sub Reason"
   ]
  },
  {
   "cell_type": "code",
   "execution_count": 40,
   "metadata": {},
   "outputs": [
    {
     "data": {
      "text/plain": [
       "count               586\n",
       "unique               16\n",
       "top       Career Growth\n",
       "freq                205\n",
       "Name: Term Sub Reason, dtype: object"
      ]
     },
     "execution_count": 40,
     "metadata": {},
     "output_type": "execute_result"
    }
   ],
   "source": [
    "df['Term Sub Reason'].describe()"
   ]
  },
  {
   "cell_type": "code",
   "execution_count": 41,
   "metadata": {},
   "outputs": [
    {
     "data": {
      "text/plain": [
       "array([nan, 'Career Growth', 'Personal Reason',\n",
       "       'Relocated to Other Branch', 'Salary Hike', 'Higher Studies',\n",
       "       'Relocation to Native', 'Internal Politics', 'Company Rules',\n",
       "       'Health Issues', 'Work Life Balance', 'Marriage',\n",
       "       'Not Suitable Job for the Skills', 'Miscellaneous',\n",
       "       'Family Problems', 'Not Interested in JOB', 'Work Stress'],\n",
       "      dtype=object)"
      ]
     },
     "execution_count": 41,
     "metadata": {},
     "output_type": "execute_result"
    }
   ],
   "source": [
    "df['Term Sub Reason'].unique()"
   ]
  },
  {
   "cell_type": "markdown",
   "metadata": {},
   "source": [
    "Employee Grade"
   ]
  },
  {
   "cell_type": "code",
   "execution_count": 43,
   "metadata": {},
   "outputs": [
    {
     "data": {
      "text/plain": [
       "count     78377\n",
       "unique        3\n",
       "top         Mid\n",
       "freq      40642\n",
       "Name: Employee Grade, dtype: object"
      ]
     },
     "execution_count": 43,
     "metadata": {},
     "output_type": "execute_result"
    }
   ],
   "source": [
    "df['Employee Grade'].describe()"
   ]
  },
  {
   "cell_type": "code",
   "execution_count": 44,
   "metadata": {},
   "outputs": [
    {
     "data": {
      "text/plain": [
       "Employee Grade\n",
       "Mid       40642\n",
       "Junior    33667\n",
       "Senior     4068\n",
       "Name: count, dtype: int64"
      ]
     },
     "execution_count": 44,
     "metadata": {},
     "output_type": "execute_result"
    }
   ],
   "source": [
    "df['Employee Grade'].value_counts()"
   ]
  },
  {
   "cell_type": "markdown",
   "metadata": {},
   "source": [
    "Location"
   ]
  },
  {
   "cell_type": "code",
   "execution_count": 45,
   "metadata": {},
   "outputs": [
    {
     "data": {
      "text/plain": [
       "count         78377\n",
       "unique            7\n",
       "top       Bengaluru\n",
       "freq          71138\n",
       "Name: Location, dtype: object"
      ]
     },
     "execution_count": 45,
     "metadata": {},
     "output_type": "execute_result"
    }
   ],
   "source": [
    "df['Location'].describe()"
   ]
  },
  {
   "cell_type": "code",
   "execution_count": 46,
   "metadata": {},
   "outputs": [
    {
     "data": {
      "text/plain": [
       "Location\n",
       "Bengaluru     71138\n",
       "Chennai        3072\n",
       "Hyderabad      1995\n",
       "Gujarath       1229\n",
       "Vadodara        817\n",
       "Pune            125\n",
       "Coimbatore        1\n",
       "Name: count, dtype: int64"
      ]
     },
     "execution_count": 46,
     "metadata": {},
     "output_type": "execute_result"
    }
   ],
   "source": [
    "df['Location'].value_counts()"
   ]
  },
  {
   "cell_type": "markdown",
   "metadata": {},
   "source": [
    "Career Bucket"
   ]
  },
  {
   "cell_type": "code",
   "execution_count": 47,
   "metadata": {},
   "outputs": [
    {
     "data": {
      "text/plain": [
       "count        78377\n",
       "unique           3\n",
       "top       Above 35\n",
       "freq         36893\n",
       "Name: Career Bucket, dtype: object"
      ]
     },
     "execution_count": 47,
     "metadata": {},
     "output_type": "execute_result"
    }
   ],
   "source": [
    "df['Career Bucket'].describe()"
   ]
  },
  {
   "cell_type": "code",
   "execution_count": 48,
   "metadata": {},
   "outputs": [
    {
     "data": {
      "text/plain": [
       "Career Bucket\n",
       "Above 35    36893\n",
       "31 to 35    32253\n",
       "Below 30     9231\n",
       "Name: count, dtype: int64"
      ]
     },
     "execution_count": 48,
     "metadata": {},
     "output_type": "execute_result"
    }
   ],
   "source": [
    "df['Career Bucket'].value_counts()"
   ]
  },
  {
   "cell_type": "markdown",
   "metadata": {},
   "source": [
    "Age Bucket"
   ]
  },
  {
   "cell_type": "code",
   "execution_count": 49,
   "metadata": {},
   "outputs": [
    {
     "data": {
      "text/plain": [
       "count        78377\n",
       "unique          10\n",
       "top       31 To 35\n",
       "freq         23509\n",
       "Name: Age Bucket, dtype: object"
      ]
     },
     "execution_count": 49,
     "metadata": {},
     "output_type": "execute_result"
    }
   ],
   "source": [
    "df['Age Bucket'].describe()"
   ]
  },
  {
   "cell_type": "code",
   "execution_count": 50,
   "metadata": {},
   "outputs": [
    {
     "data": {
      "text/plain": [
       "Age Bucket\n",
       "31 To 35    23509\n",
       "36 T0 40    20513\n",
       "26 To 30    15074\n",
       "41 T0 45     8543\n",
       "21 To 25     5699\n",
       "46 T0 50     3730\n",
       "51 T0 55     1099\n",
       "56 T0 60      174\n",
       ">60            30\n",
       "<=20            6\n",
       "Name: count, dtype: int64"
      ]
     },
     "execution_count": 50,
     "metadata": {},
     "output_type": "execute_result"
    }
   ],
   "source": [
    "df['Age Bucket'].value_counts()"
   ]
  },
  {
   "cell_type": "markdown",
   "metadata": {},
   "source": [
    "Manage ID"
   ]
  },
  {
   "cell_type": "code",
   "execution_count": 51,
   "metadata": {},
   "outputs": [
    {
     "data": {
      "text/plain": [
       "count     78377.000000\n",
       "mean     101168.051444\n",
       "std         740.858770\n",
       "min      100001.000000\n",
       "25%      100598.000000\n",
       "50%      101121.000000\n",
       "75%      101590.000000\n",
       "max      102737.000000\n",
       "Name: Manager ID, dtype: float64"
      ]
     },
     "execution_count": 51,
     "metadata": {},
     "output_type": "execute_result"
    }
   ],
   "source": [
    "df['Manager ID'].describe()"
   ]
  },
  {
   "cell_type": "code",
   "execution_count": 52,
   "metadata": {},
   "outputs": [
    {
     "data": {
      "text/plain": [
       "count      78377\n",
       "unique       741\n",
       "top       100076\n",
       "freq        1032\n",
       "Name: Manager ID, dtype: int64"
      ]
     },
     "execution_count": 52,
     "metadata": {},
     "output_type": "execute_result"
    }
   ],
   "source": [
    "df['Manager ID'] = df['Manager ID'].astype('category')\n",
    "df['Manager ID'].describe()"
   ]
  },
  {
   "cell_type": "markdown",
   "metadata": {},
   "source": [
    "Manager Name"
   ]
  },
  {
   "cell_type": "code",
   "execution_count": 53,
   "metadata": {},
   "outputs": [
    {
     "data": {
      "text/plain": [
       "count           78377\n",
       "unique            741\n",
       "top       Name_100076\n",
       "freq             1032\n",
       "Name: Manager Name, dtype: object"
      ]
     },
     "execution_count": 53,
     "metadata": {},
     "output_type": "execute_result"
    }
   ],
   "source": [
    "df['Manager Name'].describe()"
   ]
  },
  {
   "cell_type": "markdown",
   "metadata": {},
   "source": [
    "Performance"
   ]
  },
  {
   "cell_type": "code",
   "execution_count": 54,
   "metadata": {},
   "outputs": [
    {
     "data": {
      "text/plain": [
       "count     78377\n",
       "unique        5\n",
       "top           B\n",
       "freq      32539\n",
       "Name: Performance, dtype: object"
      ]
     },
     "execution_count": 54,
     "metadata": {},
     "output_type": "execute_result"
    }
   ],
   "source": [
    "df['Performance'].describe()"
   ]
  },
  {
   "cell_type": "code",
   "execution_count": 55,
   "metadata": {},
   "outputs": [
    {
     "data": {
      "text/plain": [
       "Performance\n",
       "B    32539\n",
       "E    20897\n",
       "C    17885\n",
       "D     6535\n",
       "A      521\n",
       "Name: count, dtype: int64"
      ]
     },
     "execution_count": 55,
     "metadata": {},
     "output_type": "execute_result"
    }
   ],
   "source": [
    "df['Performance'].value_counts()"
   ]
  },
  {
   "cell_type": "markdown",
   "metadata": {},
   "source": [
    "TALENT"
   ]
  },
  {
   "cell_type": "code",
   "execution_count": 56,
   "metadata": {},
   "outputs": [
    {
     "data": {
      "text/plain": [
       "count     48541\n",
       "unique        4\n",
       "top           B\n",
       "freq      23158\n",
       "Name: Talent, dtype: object"
      ]
     },
     "execution_count": 56,
     "metadata": {},
     "output_type": "execute_result"
    }
   ],
   "source": [
    "df['Talent'].describe()"
   ]
  },
  {
   "cell_type": "code",
   "execution_count": 57,
   "metadata": {},
   "outputs": [
    {
     "data": {
      "text/plain": [
       "Talent\n",
       "B    23158\n",
       "A    14200\n",
       "C    10298\n",
       "D      885\n",
       "Name: count, dtype: int64"
      ]
     },
     "execution_count": 57,
     "metadata": {},
     "output_type": "execute_result"
    }
   ],
   "source": [
    "df['Talent'].value_counts()"
   ]
  },
  {
   "cell_type": "markdown",
   "metadata": {},
   "source": [
    "Department"
   ]
  },
  {
   "cell_type": "code",
   "execution_count": 58,
   "metadata": {},
   "outputs": [
    {
     "data": {
      "text/plain": [
       "count     78377\n",
       "unique      119\n",
       "top          AI\n",
       "freq      17043\n",
       "Name: Department, dtype: object"
      ]
     },
     "execution_count": 58,
     "metadata": {},
     "output_type": "execute_result"
    }
   ],
   "source": [
    "df['Department'].describe()"
   ]
  },
  {
   "cell_type": "code",
   "execution_count": 59,
   "metadata": {},
   "outputs": [
    {
     "data": {
      "text/plain": [
       "Department\n",
       "AI    17043\n",
       "AY     6248\n",
       "BF     5740\n",
       "AD     5138\n",
       "AP     4441\n",
       "      ...  \n",
       "CI        2\n",
       "EF        1\n",
       "CP        1\n",
       "CY        1\n",
       "CK        1\n",
       "Name: count, Length: 119, dtype: int64"
      ]
     },
     "execution_count": 59,
     "metadata": {},
     "output_type": "execute_result"
    }
   ],
   "source": [
    "df['Department'].value_counts()"
   ]
  },
  {
   "cell_type": "code",
   "execution_count": 60,
   "metadata": {},
   "outputs": [
    {
     "data": {
      "text/html": [
       "<div>\n",
       "<style scoped>\n",
       "    .dataframe tbody tr th:only-of-type {\n",
       "        vertical-align: middle;\n",
       "    }\n",
       "\n",
       "    .dataframe tbody tr th {\n",
       "        vertical-align: top;\n",
       "    }\n",
       "\n",
       "    .dataframe thead th {\n",
       "        text-align: right;\n",
       "    }\n",
       "</style>\n",
       "<table border=\"1\" class=\"dataframe\">\n",
       "  <thead>\n",
       "    <tr style=\"text-align: right;\">\n",
       "      <th></th>\n",
       "      <th>Salary Date</th>\n",
       "      <th>Salary Month</th>\n",
       "      <th>Salary ID</th>\n",
       "      <th>Salary Status</th>\n",
       "      <th>Employee ID</th>\n",
       "      <th>Employee Name</th>\n",
       "      <th>Gender</th>\n",
       "      <th>Generation</th>\n",
       "      <th>Joining</th>\n",
       "      <th>Termination</th>\n",
       "      <th>Term Category</th>\n",
       "      <th>Term Reason</th>\n",
       "      <th>Term Sub Reason</th>\n",
       "      <th>Employee Grade</th>\n",
       "      <th>Location</th>\n",
       "      <th>Career Bucket</th>\n",
       "      <th>Age Bucket</th>\n",
       "      <th>Manager ID</th>\n",
       "      <th>Manager Name</th>\n",
       "      <th>Performance</th>\n",
       "      <th>Talent</th>\n",
       "      <th>Department</th>\n",
       "    </tr>\n",
       "  </thead>\n",
       "  <tbody>\n",
       "    <tr>\n",
       "      <th>0</th>\n",
       "      <td>2011-05-15</td>\n",
       "      <td>2011-05</td>\n",
       "      <td>100001_2011-05</td>\n",
       "      <td>Active</td>\n",
       "      <td>100001</td>\n",
       "      <td>Name_100001</td>\n",
       "      <td>Male</td>\n",
       "      <td>Gen X</td>\n",
       "      <td>2001-07</td>\n",
       "      <td>NaN</td>\n",
       "      <td>NaN</td>\n",
       "      <td>NaN</td>\n",
       "      <td>NaN</td>\n",
       "      <td>Senior</td>\n",
       "      <td>Bengaluru</td>\n",
       "      <td>Above 35</td>\n",
       "      <td>41 T0 45</td>\n",
       "      <td>102286</td>\n",
       "      <td>Name_102286</td>\n",
       "      <td>E</td>\n",
       "      <td>NaN</td>\n",
       "      <td>AA</td>\n",
       "    </tr>\n",
       "    <tr>\n",
       "      <th>1</th>\n",
       "      <td>2011-05-15</td>\n",
       "      <td>2011-05</td>\n",
       "      <td>100002_2011-05</td>\n",
       "      <td>Active</td>\n",
       "      <td>100002</td>\n",
       "      <td>Name_100002</td>\n",
       "      <td>Male</td>\n",
       "      <td>Gen X</td>\n",
       "      <td>2001-09</td>\n",
       "      <td>NaN</td>\n",
       "      <td>NaN</td>\n",
       "      <td>NaN</td>\n",
       "      <td>NaN</td>\n",
       "      <td>Mid</td>\n",
       "      <td>Bengaluru</td>\n",
       "      <td>Above 35</td>\n",
       "      <td>36 T0 40</td>\n",
       "      <td>100001</td>\n",
       "      <td>Name_100001</td>\n",
       "      <td>D</td>\n",
       "      <td>A</td>\n",
       "      <td>AA</td>\n",
       "    </tr>\n",
       "    <tr>\n",
       "      <th>2</th>\n",
       "      <td>2011-05-15</td>\n",
       "      <td>2011-05</td>\n",
       "      <td>100003_2011-05</td>\n",
       "      <td>Active</td>\n",
       "      <td>100003</td>\n",
       "      <td>Name_100003</td>\n",
       "      <td>Female</td>\n",
       "      <td>Gen X</td>\n",
       "      <td>2008-08</td>\n",
       "      <td>NaN</td>\n",
       "      <td>NaN</td>\n",
       "      <td>NaN</td>\n",
       "      <td>NaN</td>\n",
       "      <td>Mid</td>\n",
       "      <td>Bengaluru</td>\n",
       "      <td>Above 35</td>\n",
       "      <td>36 T0 40</td>\n",
       "      <td>100001</td>\n",
       "      <td>Name_100001</td>\n",
       "      <td>C</td>\n",
       "      <td>B</td>\n",
       "      <td>AA</td>\n",
       "    </tr>\n",
       "    <tr>\n",
       "      <th>3</th>\n",
       "      <td>2011-05-15</td>\n",
       "      <td>2011-05</td>\n",
       "      <td>100004_2011-05</td>\n",
       "      <td>Active</td>\n",
       "      <td>100004</td>\n",
       "      <td>Name_100004</td>\n",
       "      <td>Female</td>\n",
       "      <td>Millennials</td>\n",
       "      <td>2008-07</td>\n",
       "      <td>NaN</td>\n",
       "      <td>NaN</td>\n",
       "      <td>NaN</td>\n",
       "      <td>NaN</td>\n",
       "      <td>Junior</td>\n",
       "      <td>Bengaluru</td>\n",
       "      <td>Below 30</td>\n",
       "      <td>26 To 30</td>\n",
       "      <td>100001</td>\n",
       "      <td>Name_100001</td>\n",
       "      <td>E</td>\n",
       "      <td>NaN</td>\n",
       "      <td>AA</td>\n",
       "    </tr>\n",
       "    <tr>\n",
       "      <th>4</th>\n",
       "      <td>2011-06-12</td>\n",
       "      <td>2011-06</td>\n",
       "      <td>100001_2011-06</td>\n",
       "      <td>Active</td>\n",
       "      <td>100001</td>\n",
       "      <td>Name_100001</td>\n",
       "      <td>Male</td>\n",
       "      <td>Gen X</td>\n",
       "      <td>2001-07</td>\n",
       "      <td>NaN</td>\n",
       "      <td>NaN</td>\n",
       "      <td>NaN</td>\n",
       "      <td>NaN</td>\n",
       "      <td>Senior</td>\n",
       "      <td>Bengaluru</td>\n",
       "      <td>Above 35</td>\n",
       "      <td>41 T0 45</td>\n",
       "      <td>102286</td>\n",
       "      <td>Name_102286</td>\n",
       "      <td>E</td>\n",
       "      <td>NaN</td>\n",
       "      <td>AA</td>\n",
       "    </tr>\n",
       "  </tbody>\n",
       "</table>\n",
       "</div>"
      ],
      "text/plain": [
       "  Salary Date Salary Month       Salary ID Salary Status Employee ID  \\\n",
       "0  2011-05-15      2011-05  100001_2011-05        Active      100001   \n",
       "1  2011-05-15      2011-05  100002_2011-05        Active      100002   \n",
       "2  2011-05-15      2011-05  100003_2011-05        Active      100003   \n",
       "3  2011-05-15      2011-05  100004_2011-05        Active      100004   \n",
       "4  2011-06-12      2011-06  100001_2011-06        Active      100001   \n",
       "\n",
       "  Employee Name  Gender   Generation  Joining Termination Term Category  \\\n",
       "0   Name_100001    Male        Gen X  2001-07         NaN           NaN   \n",
       "1   Name_100002    Male        Gen X  2001-09         NaN           NaN   \n",
       "2   Name_100003  Female        Gen X  2008-08         NaN           NaN   \n",
       "3   Name_100004  Female  Millennials  2008-07         NaN           NaN   \n",
       "4   Name_100001    Male        Gen X  2001-07         NaN           NaN   \n",
       "\n",
       "  Term Reason Term Sub Reason Employee Grade   Location Career Bucket  \\\n",
       "0         NaN             NaN         Senior  Bengaluru      Above 35   \n",
       "1         NaN             NaN            Mid  Bengaluru      Above 35   \n",
       "2         NaN             NaN            Mid  Bengaluru      Above 35   \n",
       "3         NaN             NaN         Junior  Bengaluru      Below 30   \n",
       "4         NaN             NaN         Senior  Bengaluru      Above 35   \n",
       "\n",
       "  Age Bucket Manager ID Manager Name Performance Talent Department  \n",
       "0   41 T0 45     102286  Name_102286           E    NaN         AA  \n",
       "1   36 T0 40     100001  Name_100001           D      A         AA  \n",
       "2   36 T0 40     100001  Name_100001           C      B         AA  \n",
       "3   26 To 30     100001  Name_100001           E    NaN         AA  \n",
       "4   41 T0 45     102286  Name_102286           E    NaN         AA  "
      ]
     },
     "execution_count": 60,
     "metadata": {},
     "output_type": "execute_result"
    }
   ],
   "source": [
    "df.head()"
   ]
  },
  {
   "cell_type": "code",
   "execution_count": null,
   "metadata": {},
   "outputs": [],
   "source": []
  }
 ],
 "metadata": {
  "kernelspec": {
   "display_name": ".venv",
   "language": "python",
   "name": "python3"
  },
  "language_info": {
   "codemirror_mode": {
    "name": "ipython",
    "version": 3
   },
   "file_extension": ".py",
   "mimetype": "text/x-python",
   "name": "python",
   "nbconvert_exporter": "python",
   "pygments_lexer": "ipython3",
   "version": "3.12.4"
  }
 },
 "nbformat": 4,
 "nbformat_minor": 2
}
