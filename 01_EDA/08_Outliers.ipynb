{
 "cells": [
  {
   "cell_type": "markdown",
   "metadata": {},
   "source": [
    "Outliers Handling"
   ]
  },
  {
   "cell_type": "code",
   "execution_count": 16,
   "metadata": {},
   "outputs": [],
   "source": [
    "import pandas as pd"
   ]
  },
  {
   "cell_type": "code",
   "execution_count": 17,
   "metadata": {},
   "outputs": [
    {
     "data": {
      "text/html": [
       "<div>\n",
       "<style scoped>\n",
       "    .dataframe tbody tr th:only-of-type {\n",
       "        vertical-align: middle;\n",
       "    }\n",
       "\n",
       "    .dataframe tbody tr th {\n",
       "        vertical-align: top;\n",
       "    }\n",
       "\n",
       "    .dataframe thead th {\n",
       "        text-align: right;\n",
       "    }\n",
       "</style>\n",
       "<table border=\"1\" class=\"dataframe\">\n",
       "  <thead>\n",
       "    <tr style=\"text-align: right;\">\n",
       "      <th></th>\n",
       "      <th>Gender</th>\n",
       "      <th>Generation</th>\n",
       "      <th>Term Sub Reason</th>\n",
       "      <th>Employee Grade</th>\n",
       "      <th>Location</th>\n",
       "      <th>Career Bucket</th>\n",
       "      <th>Age Bucket</th>\n",
       "      <th>Manager ID</th>\n",
       "      <th>Talent</th>\n",
       "      <th>Department</th>\n",
       "      <th>active_months</th>\n",
       "    </tr>\n",
       "  </thead>\n",
       "  <tbody>\n",
       "    <tr>\n",
       "      <th>0</th>\n",
       "      <td>Female</td>\n",
       "      <td>Millennials</td>\n",
       "      <td>Career Growth</td>\n",
       "      <td>Junior</td>\n",
       "      <td>Bengaluru</td>\n",
       "      <td>Below 30</td>\n",
       "      <td>26 To 30</td>\n",
       "      <td>102292</td>\n",
       "      <td>NaN</td>\n",
       "      <td>AC</td>\n",
       "      <td>59.0</td>\n",
       "    </tr>\n",
       "    <tr>\n",
       "      <th>1</th>\n",
       "      <td>Female</td>\n",
       "      <td>Millennials</td>\n",
       "      <td>Career Growth</td>\n",
       "      <td>Mid</td>\n",
       "      <td>Bengaluru</td>\n",
       "      <td>31 to 35</td>\n",
       "      <td>26 To 30</td>\n",
       "      <td>100411</td>\n",
       "      <td>NaN</td>\n",
       "      <td>AD</td>\n",
       "      <td>4.0</td>\n",
       "    </tr>\n",
       "    <tr>\n",
       "      <th>2</th>\n",
       "      <td>Male</td>\n",
       "      <td>Millennials</td>\n",
       "      <td>Career Growth</td>\n",
       "      <td>Junior</td>\n",
       "      <td>Bengaluru</td>\n",
       "      <td>Below 30</td>\n",
       "      <td>26 To 30</td>\n",
       "      <td>102304</td>\n",
       "      <td>NaN</td>\n",
       "      <td>AG</td>\n",
       "      <td>26.0</td>\n",
       "    </tr>\n",
       "    <tr>\n",
       "      <th>3</th>\n",
       "      <td>Male</td>\n",
       "      <td>Gen X</td>\n",
       "      <td>Career Growth</td>\n",
       "      <td>Senior</td>\n",
       "      <td>Bengaluru</td>\n",
       "      <td>Above 35</td>\n",
       "      <td>36 T0 40</td>\n",
       "      <td>102324</td>\n",
       "      <td>NaN</td>\n",
       "      <td>AI</td>\n",
       "      <td>126.0</td>\n",
       "    </tr>\n",
       "    <tr>\n",
       "      <th>4</th>\n",
       "      <td>Male</td>\n",
       "      <td>Millennials</td>\n",
       "      <td>Personal Reason</td>\n",
       "      <td>Mid</td>\n",
       "      <td>Bengaluru</td>\n",
       "      <td>31 to 35</td>\n",
       "      <td>31 To 35</td>\n",
       "      <td>100619</td>\n",
       "      <td>NaN</td>\n",
       "      <td>AI</td>\n",
       "      <td>126.0</td>\n",
       "    </tr>\n",
       "  </tbody>\n",
       "</table>\n",
       "</div>"
      ],
      "text/plain": [
       "   Gender   Generation  Term Sub Reason Employee Grade   Location  \\\n",
       "0  Female  Millennials    Career Growth         Junior  Bengaluru   \n",
       "1  Female  Millennials    Career Growth            Mid  Bengaluru   \n",
       "2    Male  Millennials    Career Growth         Junior  Bengaluru   \n",
       "3    Male        Gen X    Career Growth         Senior  Bengaluru   \n",
       "4    Male  Millennials  Personal Reason            Mid  Bengaluru   \n",
       "\n",
       "  Career Bucket Age Bucket  Manager ID Talent Department  active_months  \n",
       "0      Below 30   26 To 30      102292    NaN         AC           59.0  \n",
       "1      31 to 35   26 To 30      100411    NaN         AD            4.0  \n",
       "2      Below 30   26 To 30      102304    NaN         AG           26.0  \n",
       "3      Above 35   36 T0 40      102324    NaN         AI          126.0  \n",
       "4      31 to 35   31 To 35      100619    NaN         AI          126.0  "
      ]
     },
     "execution_count": 17,
     "metadata": {},
     "output_type": "execute_result"
    }
   ],
   "source": [
    "df = pd.read_csv('../00_Data/03_OptimizedColumns.csv')\n",
    "df.head()"
   ]
  },
  {
   "cell_type": "code",
   "execution_count": 18,
   "metadata": {},
   "outputs": [
    {
     "data": {
      "text/plain": [
       "(566, 11)"
      ]
     },
     "execution_count": 18,
     "metadata": {},
     "output_type": "execute_result"
    }
   ],
   "source": [
    "df.shape"
   ]
  },
  {
   "cell_type": "markdown",
   "metadata": {},
   "source": [
    "Visual Understanding"
   ]
  },
  {
   "cell_type": "code",
   "execution_count": 19,
   "metadata": {},
   "outputs": [
    {
     "data": {
      "text/plain": [
       "array([  2.,   3.,   4.,   5.,   6.,   7.,   8.,   9.,  10.,  11.,  12.,\n",
       "        13.,  14.,  15.,  16.,  17.,  18.,  19.,  20.,  21.,  22.,  23.,\n",
       "        24.,  25.,  26.,  27.,  28.,  29.,  30.,  31.,  32.,  33.,  34.,\n",
       "        35.,  36.,  37.,  38.,  39.,  40.,  41.,  42.,  43.,  44.,  45.,\n",
       "        46.,  47.,  48.,  49.,  50.,  52.,  53.,  54.,  55.,  56.,  57.,\n",
       "        58.,  59.,  60.,  61.,  62.,  63.,  64.,  65.,  66.,  67.,  68.,\n",
       "        69.,  70.,  71.,  72.,  73.,  74.,  75.,  76.,  77.,  78.,  79.,\n",
       "        80.,  81.,  82.,  83.,  84.,  85.,  86.,  87.,  88.,  89.,  90.,\n",
       "        91.,  92.,  93.,  94.,  95.,  96.,  97.,  98.,  99., 100., 101.,\n",
       "       102., 103., 105., 106., 108., 109., 110., 111., 112., 113., 115.,\n",
       "       116., 117., 118., 121., 123., 124., 126., 127., 128., 129., 131.,\n",
       "       132., 133., 136., 137., 140., 141., 144., 145., 148., 152., 154.,\n",
       "       156., 159., 168., 173., 174., 175., 187., 188., 190., 192., 347.])"
      ]
     },
     "execution_count": 19,
     "metadata": {},
     "output_type": "execute_result"
    }
   ],
   "source": [
    "df['active_months'].sort_values().unique()"
   ]
  },
  {
   "cell_type": "code",
   "execution_count": 20,
   "metadata": {},
   "outputs": [
    {
     "data": {
      "text/plain": [
       "(565, 11)"
      ]
     },
     "execution_count": 20,
     "metadata": {},
     "output_type": "execute_result"
    }
   ],
   "source": [
    "df = df.loc[df['active_months'] < 200]\n",
    "df.shape"
   ]
  },
  {
   "cell_type": "markdown",
   "metadata": {},
   "source": [
    "Inter-Quartile Range (IQR)"
   ]
  },
  {
   "cell_type": "code",
   "execution_count": 21,
   "metadata": {},
   "outputs": [
    {
     "data": {
      "text/plain": [
       "count    565.000000\n",
       "mean      54.879646\n",
       "std       39.162731\n",
       "min        2.000000\n",
       "25%       24.000000\n",
       "50%       43.000000\n",
       "75%       75.000000\n",
       "max      192.000000\n",
       "Name: active_months, dtype: float64"
      ]
     },
     "execution_count": 21,
     "metadata": {},
     "output_type": "execute_result"
    }
   ],
   "source": [
    "info = df['active_months'].describe()\n",
    "info"
   ]
  },
  {
   "cell_type": "code",
   "execution_count": 22,
   "metadata": {},
   "outputs": [
    {
     "data": {
      "text/plain": [
       "np.float64(51.0)"
      ]
     },
     "execution_count": 22,
     "metadata": {},
     "output_type": "execute_result"
    }
   ],
   "source": [
    "q3 = info.loc['75%']\n",
    "q1 = info.loc['25%']\n",
    "\n",
    "iqr = q3-q1\n",
    "iqr"
   ]
  },
  {
   "cell_type": "code",
   "execution_count": 23,
   "metadata": {},
   "outputs": [
    {
     "data": {
      "text/plain": [
       "(np.float64(151.5), np.float64(-52.5))"
      ]
     },
     "execution_count": 23,
     "metadata": {},
     "output_type": "execute_result"
    }
   ],
   "source": [
    "upper_bound = q3 + (1.5 * iqr)\n",
    "lower_bound = q1 - (1.5 * iqr)\n",
    "\n",
    "upper_bound, lower_bound"
   ]
  },
  {
   "cell_type": "markdown",
   "metadata": {},
   "source": [
    "Outlier Percentage"
   ]
  },
  {
   "cell_type": "code",
   "execution_count": 24,
   "metadata": {},
   "outputs": [
    {
     "data": {
      "text/plain": [
       "2.3"
      ]
     },
     "execution_count": 24,
     "metadata": {},
     "output_type": "execute_result"
    }
   ],
   "source": [
    "# Outlier Rows\n",
    "\n",
    "df_upper_rows = df[df['active_months'] >= upper_bound]\n",
    "df_lower_rows = df[df['active_months'] <= lower_bound]\n",
    "\n",
    "outlier_rows = df_upper_rows.shape[0] + df_lower_rows.shape[0]\n",
    "total_rows = df.shape[0]\n",
    "\n",
    "outlier_percent = round((outlier_rows/total_rows)* 100, 1)\n",
    "outlier_percent"
   ]
  },
  {
   "cell_type": "markdown",
   "metadata": {},
   "source": [
    "Non Outlier Rows"
   ]
  },
  {
   "cell_type": "code",
   "execution_count": 25,
   "metadata": {},
   "outputs": [
    {
     "data": {
      "text/plain": [
       "(552, 11)"
      ]
     },
     "execution_count": 25,
     "metadata": {},
     "output_type": "execute_result"
    }
   ],
   "source": [
    "df_nout = df.copy()\n",
    "df_nout = df_nout[df_nout['active_months'] < upper_bound]\n",
    "df_nout = df_nout[df_nout['active_months'] > lower_bound]\n",
    "df_nout.shape"
   ]
  },
  {
   "cell_type": "code",
   "execution_count": 26,
   "metadata": {},
   "outputs": [],
   "source": [
    "df_nout.to_csv('../00_Data/04_NoOutliers.csv', index=False)"
   ]
  },
  {
   "cell_type": "markdown",
   "metadata": {},
   "source": [
    "Outlier Rows"
   ]
  },
  {
   "cell_type": "code",
   "execution_count": 27,
   "metadata": {},
   "outputs": [
    {
     "data": {
      "text/plain": [
       "(13, 11)"
      ]
     },
     "execution_count": 27,
     "metadata": {},
     "output_type": "execute_result"
    }
   ],
   "source": [
    "df_upper = df[df['active_months'] >= upper_bound]\n",
    "df_lower = df[df['active_months'] <= lower_bound]\n",
    "\n",
    "df_out = pd.concat([df_upper, df_lower])\n",
    "df_out.shape"
   ]
  },
  {
   "cell_type": "code",
   "execution_count": 28,
   "metadata": {},
   "outputs": [
    {
     "data": {
      "text/html": [
       "<div>\n",
       "<style scoped>\n",
       "    .dataframe tbody tr th:only-of-type {\n",
       "        vertical-align: middle;\n",
       "    }\n",
       "\n",
       "    .dataframe tbody tr th {\n",
       "        vertical-align: top;\n",
       "    }\n",
       "\n",
       "    .dataframe thead th {\n",
       "        text-align: right;\n",
       "    }\n",
       "</style>\n",
       "<table border=\"1\" class=\"dataframe\">\n",
       "  <thead>\n",
       "    <tr style=\"text-align: right;\">\n",
       "      <th></th>\n",
       "      <th>Gender</th>\n",
       "      <th>Generation</th>\n",
       "      <th>Term Sub Reason</th>\n",
       "      <th>Employee Grade</th>\n",
       "      <th>Location</th>\n",
       "      <th>Career Bucket</th>\n",
       "      <th>Age Bucket</th>\n",
       "      <th>Manager ID</th>\n",
       "      <th>Talent</th>\n",
       "      <th>Department</th>\n",
       "      <th>active_months</th>\n",
       "    </tr>\n",
       "  </thead>\n",
       "  <tbody>\n",
       "    <tr>\n",
       "      <th>46</th>\n",
       "      <td>Male</td>\n",
       "      <td>Millennials</td>\n",
       "      <td>Career Growth</td>\n",
       "      <td>Junior</td>\n",
       "      <td>Gujarath</td>\n",
       "      <td>31 to 35</td>\n",
       "      <td>31 To 35</td>\n",
       "      <td>102391</td>\n",
       "      <td>NaN</td>\n",
       "      <td>BA</td>\n",
       "      <td>159.0</td>\n",
       "    </tr>\n",
       "    <tr>\n",
       "      <th>318</th>\n",
       "      <td>Male</td>\n",
       "      <td>Millennials</td>\n",
       "      <td>Career Growth</td>\n",
       "      <td>Mid</td>\n",
       "      <td>Bengaluru</td>\n",
       "      <td>31 to 35</td>\n",
       "      <td>31 To 35</td>\n",
       "      <td>100854</td>\n",
       "      <td>NaN</td>\n",
       "      <td>AI</td>\n",
       "      <td>156.0</td>\n",
       "    </tr>\n",
       "    <tr>\n",
       "      <th>383</th>\n",
       "      <td>Female</td>\n",
       "      <td>Millennials</td>\n",
       "      <td>Salary Hike</td>\n",
       "      <td>Mid</td>\n",
       "      <td>Bengaluru</td>\n",
       "      <td>31 to 35</td>\n",
       "      <td>31 To 35</td>\n",
       "      <td>100607</td>\n",
       "      <td>NaN</td>\n",
       "      <td>AI</td>\n",
       "      <td>154.0</td>\n",
       "    </tr>\n",
       "    <tr>\n",
       "      <th>417</th>\n",
       "      <td>Male</td>\n",
       "      <td>Gen X</td>\n",
       "      <td>Personal Reason</td>\n",
       "      <td>Mid</td>\n",
       "      <td>Bengaluru</td>\n",
       "      <td>Above 35</td>\n",
       "      <td>41 T0 45</td>\n",
       "      <td>102634</td>\n",
       "      <td>NaN</td>\n",
       "      <td>AY</td>\n",
       "      <td>173.0</td>\n",
       "    </tr>\n",
       "    <tr>\n",
       "      <th>433</th>\n",
       "      <td>Male</td>\n",
       "      <td>Gen X</td>\n",
       "      <td>Personal Reason</td>\n",
       "      <td>Mid</td>\n",
       "      <td>Bengaluru</td>\n",
       "      <td>Above 35</td>\n",
       "      <td>41 T0 45</td>\n",
       "      <td>102324</td>\n",
       "      <td>NaN</td>\n",
       "      <td>AI</td>\n",
       "      <td>190.0</td>\n",
       "    </tr>\n",
       "    <tr>\n",
       "      <th>444</th>\n",
       "      <td>Male</td>\n",
       "      <td>Gen X</td>\n",
       "      <td>Personal Reason</td>\n",
       "      <td>Mid</td>\n",
       "      <td>Bengaluru</td>\n",
       "      <td>Above 35</td>\n",
       "      <td>36 T0 40</td>\n",
       "      <td>100017</td>\n",
       "      <td>NaN</td>\n",
       "      <td>AB</td>\n",
       "      <td>152.0</td>\n",
       "    </tr>\n",
       "    <tr>\n",
       "      <th>447</th>\n",
       "      <td>Male</td>\n",
       "      <td>Gen X</td>\n",
       "      <td>Personal Reason</td>\n",
       "      <td>Mid</td>\n",
       "      <td>Bengaluru</td>\n",
       "      <td>Above 35</td>\n",
       "      <td>46 T0 50</td>\n",
       "      <td>100439</td>\n",
       "      <td>NaN</td>\n",
       "      <td>AD</td>\n",
       "      <td>192.0</td>\n",
       "    </tr>\n",
       "    <tr>\n",
       "      <th>475</th>\n",
       "      <td>Male</td>\n",
       "      <td>Gen X</td>\n",
       "      <td>Salary Hike</td>\n",
       "      <td>Mid</td>\n",
       "      <td>Bengaluru</td>\n",
       "      <td>Above 35</td>\n",
       "      <td>41 T0 45</td>\n",
       "      <td>100598</td>\n",
       "      <td>NaN</td>\n",
       "      <td>AI</td>\n",
       "      <td>187.0</td>\n",
       "    </tr>\n",
       "    <tr>\n",
       "      <th>489</th>\n",
       "      <td>Male</td>\n",
       "      <td>Millennials</td>\n",
       "      <td>Relocated to Other Branch</td>\n",
       "      <td>Mid</td>\n",
       "      <td>Bengaluru</td>\n",
       "      <td>Above 35</td>\n",
       "      <td>36 T0 40</td>\n",
       "      <td>101644</td>\n",
       "      <td>NaN</td>\n",
       "      <td>DI</td>\n",
       "      <td>168.0</td>\n",
       "    </tr>\n",
       "    <tr>\n",
       "      <th>491</th>\n",
       "      <td>Male</td>\n",
       "      <td>Gen X</td>\n",
       "      <td>Career Growth</td>\n",
       "      <td>Senior</td>\n",
       "      <td>Bengaluru</td>\n",
       "      <td>Above 35</td>\n",
       "      <td>46 T0 50</td>\n",
       "      <td>102410</td>\n",
       "      <td>NaN</td>\n",
       "      <td>BQ</td>\n",
       "      <td>174.0</td>\n",
       "    </tr>\n",
       "    <tr>\n",
       "      <th>515</th>\n",
       "      <td>Female</td>\n",
       "      <td>Gen X</td>\n",
       "      <td>Personal Reason</td>\n",
       "      <td>Junior</td>\n",
       "      <td>Bengaluru</td>\n",
       "      <td>Above 35</td>\n",
       "      <td>41 T0 45</td>\n",
       "      <td>102324</td>\n",
       "      <td>NaN</td>\n",
       "      <td>AI</td>\n",
       "      <td>175.0</td>\n",
       "    </tr>\n",
       "    <tr>\n",
       "      <th>519</th>\n",
       "      <td>Male</td>\n",
       "      <td>Gen X</td>\n",
       "      <td>Personal Reason</td>\n",
       "      <td>Mid</td>\n",
       "      <td>Bengaluru</td>\n",
       "      <td>Above 35</td>\n",
       "      <td>41 T0 45</td>\n",
       "      <td>100421</td>\n",
       "      <td>NaN</td>\n",
       "      <td>AD</td>\n",
       "      <td>173.0</td>\n",
       "    </tr>\n",
       "    <tr>\n",
       "      <th>533</th>\n",
       "      <td>Female</td>\n",
       "      <td>Gen X</td>\n",
       "      <td>Personal Reason</td>\n",
       "      <td>Senior</td>\n",
       "      <td>Bengaluru</td>\n",
       "      <td>Above 35</td>\n",
       "      <td>46 T0 50</td>\n",
       "      <td>102351</td>\n",
       "      <td>NaN</td>\n",
       "      <td>BF</td>\n",
       "      <td>188.0</td>\n",
       "    </tr>\n",
       "  </tbody>\n",
       "</table>\n",
       "</div>"
      ],
      "text/plain": [
       "     Gender   Generation            Term Sub Reason Employee Grade   Location  \\\n",
       "46     Male  Millennials              Career Growth         Junior   Gujarath   \n",
       "318    Male  Millennials              Career Growth            Mid  Bengaluru   \n",
       "383  Female  Millennials                Salary Hike            Mid  Bengaluru   \n",
       "417    Male        Gen X            Personal Reason            Mid  Bengaluru   \n",
       "433    Male        Gen X            Personal Reason            Mid  Bengaluru   \n",
       "444    Male        Gen X            Personal Reason            Mid  Bengaluru   \n",
       "447    Male        Gen X            Personal Reason            Mid  Bengaluru   \n",
       "475    Male        Gen X                Salary Hike            Mid  Bengaluru   \n",
       "489    Male  Millennials  Relocated to Other Branch            Mid  Bengaluru   \n",
       "491    Male        Gen X              Career Growth         Senior  Bengaluru   \n",
       "515  Female        Gen X            Personal Reason         Junior  Bengaluru   \n",
       "519    Male        Gen X            Personal Reason            Mid  Bengaluru   \n",
       "533  Female        Gen X            Personal Reason         Senior  Bengaluru   \n",
       "\n",
       "    Career Bucket Age Bucket  Manager ID Talent Department  active_months  \n",
       "46       31 to 35   31 To 35      102391    NaN         BA          159.0  \n",
       "318      31 to 35   31 To 35      100854    NaN         AI          156.0  \n",
       "383      31 to 35   31 To 35      100607    NaN         AI          154.0  \n",
       "417      Above 35   41 T0 45      102634    NaN         AY          173.0  \n",
       "433      Above 35   41 T0 45      102324    NaN         AI          190.0  \n",
       "444      Above 35   36 T0 40      100017    NaN         AB          152.0  \n",
       "447      Above 35   46 T0 50      100439    NaN         AD          192.0  \n",
       "475      Above 35   41 T0 45      100598    NaN         AI          187.0  \n",
       "489      Above 35   36 T0 40      101644    NaN         DI          168.0  \n",
       "491      Above 35   46 T0 50      102410    NaN         BQ          174.0  \n",
       "515      Above 35   41 T0 45      102324    NaN         AI          175.0  \n",
       "519      Above 35   41 T0 45      100421    NaN         AD          173.0  \n",
       "533      Above 35   46 T0 50      102351    NaN         BF          188.0  "
      ]
     },
     "execution_count": 28,
     "metadata": {},
     "output_type": "execute_result"
    }
   ],
   "source": [
    "df_out"
   ]
  },
  {
   "cell_type": "code",
   "execution_count": 29,
   "metadata": {},
   "outputs": [],
   "source": [
    "df_out.to_csv('../00_Data/Outliers.csv', index=False)"
   ]
  }
 ],
 "metadata": {
  "kernelspec": {
   "display_name": ".venv",
   "language": "python",
   "name": "python3"
  },
  "language_info": {
   "codemirror_mode": {
    "name": "ipython",
    "version": 3
   },
   "file_extension": ".py",
   "mimetype": "text/x-python",
   "name": "python",
   "nbconvert_exporter": "python",
   "pygments_lexer": "ipython3",
   "version": "3.12.4"
  }
 },
 "nbformat": 4,
 "nbformat_minor": 2
}
