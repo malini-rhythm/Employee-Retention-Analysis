{
 "cells": [
  {
   "cell_type": "markdown",
   "metadata": {},
   "source": [
    "Exploratory Data Analysis"
   ]
  },
  {
   "cell_type": "code",
   "execution_count": 2,
   "metadata": {},
   "outputs": [],
   "source": [
    "# !pip install --upgrade pip\n",
    "# !pip install ydata-profiling\n",
    "# !pip install --upgrade setuptools"
   ]
  },
  {
   "cell_type": "code",
   "execution_count": 3,
   "metadata": {},
   "outputs": [],
   "source": [
    "from ydata_profiling import ProfileReport\n",
    "import pandas as pd\n",
    "import time"
   ]
  },
  {
   "cell_type": "code",
   "execution_count": 4,
   "metadata": {},
   "outputs": [
    {
     "data": {
      "text/html": [
       "<div>\n",
       "<style scoped>\n",
       "    .dataframe tbody tr th:only-of-type {\n",
       "        vertical-align: middle;\n",
       "    }\n",
       "\n",
       "    .dataframe tbody tr th {\n",
       "        vertical-align: top;\n",
       "    }\n",
       "\n",
       "    .dataframe thead th {\n",
       "        text-align: right;\n",
       "    }\n",
       "</style>\n",
       "<table border=\"1\" class=\"dataframe\">\n",
       "  <thead>\n",
       "    <tr style=\"text-align: right;\">\n",
       "      <th></th>\n",
       "      <th>Salary Date</th>\n",
       "      <th>Salary Month</th>\n",
       "      <th>Salary ID</th>\n",
       "      <th>Salary Status</th>\n",
       "      <th>Employee ID</th>\n",
       "      <th>Employee Name</th>\n",
       "      <th>Gender</th>\n",
       "      <th>Generation</th>\n",
       "      <th>Joining</th>\n",
       "      <th>Termination</th>\n",
       "      <th>Term Category</th>\n",
       "      <th>Term Reason</th>\n",
       "      <th>Term Sub Reason</th>\n",
       "      <th>Employee Grade</th>\n",
       "      <th>Location</th>\n",
       "      <th>Career Bucket</th>\n",
       "      <th>Age Bucket</th>\n",
       "      <th>Manager ID</th>\n",
       "      <th>Manager Name</th>\n",
       "      <th>Performance</th>\n",
       "      <th>Talent</th>\n",
       "      <th>Department</th>\n",
       "    </tr>\n",
       "  </thead>\n",
       "  <tbody>\n",
       "    <tr>\n",
       "      <th>0</th>\n",
       "      <td>2011-05-15</td>\n",
       "      <td>2011-05</td>\n",
       "      <td>100001_2011-05</td>\n",
       "      <td>Active</td>\n",
       "      <td>100001</td>\n",
       "      <td>Name_100001</td>\n",
       "      <td>Male</td>\n",
       "      <td>Gen X</td>\n",
       "      <td>2001-07</td>\n",
       "      <td>NaN</td>\n",
       "      <td>NaN</td>\n",
       "      <td>NaN</td>\n",
       "      <td>NaN</td>\n",
       "      <td>Senior</td>\n",
       "      <td>Bengaluru</td>\n",
       "      <td>Above 35</td>\n",
       "      <td>41 T0 45</td>\n",
       "      <td>102286</td>\n",
       "      <td>Name_102286</td>\n",
       "      <td>E</td>\n",
       "      <td>NaN</td>\n",
       "      <td>AA</td>\n",
       "    </tr>\n",
       "    <tr>\n",
       "      <th>1</th>\n",
       "      <td>2011-05-15</td>\n",
       "      <td>2011-05</td>\n",
       "      <td>100002_2011-05</td>\n",
       "      <td>Active</td>\n",
       "      <td>100002</td>\n",
       "      <td>Name_100002</td>\n",
       "      <td>Male</td>\n",
       "      <td>Gen X</td>\n",
       "      <td>2001-09</td>\n",
       "      <td>NaN</td>\n",
       "      <td>NaN</td>\n",
       "      <td>NaN</td>\n",
       "      <td>NaN</td>\n",
       "      <td>Mid</td>\n",
       "      <td>Bengaluru</td>\n",
       "      <td>Above 35</td>\n",
       "      <td>36 T0 40</td>\n",
       "      <td>100001</td>\n",
       "      <td>Name_100001</td>\n",
       "      <td>D</td>\n",
       "      <td>A</td>\n",
       "      <td>AA</td>\n",
       "    </tr>\n",
       "    <tr>\n",
       "      <th>2</th>\n",
       "      <td>2011-05-15</td>\n",
       "      <td>2011-05</td>\n",
       "      <td>100003_2011-05</td>\n",
       "      <td>Active</td>\n",
       "      <td>100003</td>\n",
       "      <td>Name_100003</td>\n",
       "      <td>Female</td>\n",
       "      <td>Gen X</td>\n",
       "      <td>2008-08</td>\n",
       "      <td>NaN</td>\n",
       "      <td>NaN</td>\n",
       "      <td>NaN</td>\n",
       "      <td>NaN</td>\n",
       "      <td>Mid</td>\n",
       "      <td>Bengaluru</td>\n",
       "      <td>Above 35</td>\n",
       "      <td>36 T0 40</td>\n",
       "      <td>100001</td>\n",
       "      <td>Name_100001</td>\n",
       "      <td>C</td>\n",
       "      <td>B</td>\n",
       "      <td>AA</td>\n",
       "    </tr>\n",
       "    <tr>\n",
       "      <th>3</th>\n",
       "      <td>2011-05-15</td>\n",
       "      <td>2011-05</td>\n",
       "      <td>100004_2011-05</td>\n",
       "      <td>Active</td>\n",
       "      <td>100004</td>\n",
       "      <td>Name_100004</td>\n",
       "      <td>Female</td>\n",
       "      <td>Millennials</td>\n",
       "      <td>2008-07</td>\n",
       "      <td>NaN</td>\n",
       "      <td>NaN</td>\n",
       "      <td>NaN</td>\n",
       "      <td>NaN</td>\n",
       "      <td>Junior</td>\n",
       "      <td>Bengaluru</td>\n",
       "      <td>Below 30</td>\n",
       "      <td>26 To 30</td>\n",
       "      <td>100001</td>\n",
       "      <td>Name_100001</td>\n",
       "      <td>E</td>\n",
       "      <td>NaN</td>\n",
       "      <td>AA</td>\n",
       "    </tr>\n",
       "    <tr>\n",
       "      <th>4</th>\n",
       "      <td>2011-06-12</td>\n",
       "      <td>2011-06</td>\n",
       "      <td>100001_2011-06</td>\n",
       "      <td>Active</td>\n",
       "      <td>100001</td>\n",
       "      <td>Name_100001</td>\n",
       "      <td>Male</td>\n",
       "      <td>Gen X</td>\n",
       "      <td>2001-07</td>\n",
       "      <td>NaN</td>\n",
       "      <td>NaN</td>\n",
       "      <td>NaN</td>\n",
       "      <td>NaN</td>\n",
       "      <td>Senior</td>\n",
       "      <td>Bengaluru</td>\n",
       "      <td>Above 35</td>\n",
       "      <td>41 T0 45</td>\n",
       "      <td>102286</td>\n",
       "      <td>Name_102286</td>\n",
       "      <td>E</td>\n",
       "      <td>NaN</td>\n",
       "      <td>AA</td>\n",
       "    </tr>\n",
       "  </tbody>\n",
       "</table>\n",
       "</div>"
      ],
      "text/plain": [
       "  Salary Date Salary Month       Salary ID  ... Performance  Talent Department\n",
       "0  2011-05-15      2011-05  100001_2011-05  ...           E     NaN         AA\n",
       "1  2011-05-15      2011-05  100002_2011-05  ...           D       A         AA\n",
       "2  2011-05-15      2011-05  100003_2011-05  ...           C       B         AA\n",
       "3  2011-05-15      2011-05  100004_2011-05  ...           E     NaN         AA\n",
       "4  2011-06-12      2011-06  100001_2011-06  ...           E     NaN         AA\n",
       "\n",
       "[5 rows x 22 columns]"
      ]
     },
     "execution_count": 4,
     "metadata": {},
     "output_type": "execute_result"
    }
   ],
   "source": [
    "df = pd.read_csv('../00_Data/data.csv')\n",
    "df.head()"
   ]
  },
  {
   "cell_type": "code",
   "execution_count": null,
   "metadata": {},
   "outputs": [
    {
     "name": "stderr",
     "output_type": "stream",
     "text": [
      "Summarize dataset: 100%|██████████| 36/36 [00:02<00:00, 14.15it/s, Completed]                        \n",
      "Generate report structure: 100%|██████████| 1/1 [00:02<00:00,  2.22s/it]\n",
      "Render HTML: 100%|██████████| 1/1 [00:00<00:00,  3.46it/s]\n",
      "/Users/variablz/Documents/GitHub/Employee-Retention-Live/.venv/lib/python3.12/site-packages/ydata_profiling/profile_report.py:379: UserWarning: Extension  not supported. For now we assume .html was intended. To remove this warning, please use .html or .json.\n",
      "  warnings.warn(\n",
      "Export report to file: 100%|██████████| 1/1 [00:00<00:00, 336.24it/s]\n"
     ]
    }
   ],
   "source": [
    "profile = ProfileReport(df, title='Test title', html = {'style':{'full_width': True}})\n",
    "profile.to_file(output_file='profile_report')"
   ]
  },
  {
   "cell_type": "code",
   "execution_count": 10,
   "metadata": {},
   "outputs": [
    {
     "data": {
      "text/plain": [
       "1741274472723"
      ]
     },
     "execution_count": 10,
     "metadata": {},
     "output_type": "execute_result"
    }
   ],
   "source": [
    "round(time.time() * 1000)"
   ]
  },
  {
   "cell_type": "code",
   "execution_count": 13,
   "metadata": {},
   "outputs": [],
   "source": [
    "def generate_profile_report(df, path, title):\n",
    "    profile = ProfileReport(df, title=title, html = {'style':{'full_width': True}})\n",
    "\n",
    "    epoch = round(time.time() * 1000)\n",
    "    report_name = path + '/profile_' + str(epoch) + '.html'\n",
    "    profile.to_file(output_file=report_name)\n"
   ]
  },
  {
   "cell_type": "code",
   "execution_count": 15,
   "metadata": {},
   "outputs": [
    {
     "name": "stderr",
     "output_type": "stream",
     "text": [
      "Summarize dataset: 100%|██████████| 36/36 [00:02<00:00, 12.81it/s, Completed]                        \n",
      "Generate report structure: 100%|██████████| 1/1 [00:02<00:00,  2.28s/it]\n",
      "Render HTML: 100%|██████████| 1/1 [00:00<00:00,  3.52it/s]\n",
      "Export report to file: 100%|██████████| 1/1 [00:00<00:00, 404.86it/s]\n"
     ]
    }
   ],
   "source": [
    "generate_profile_report(df, 'reports', 'Original Data')"
   ]
  },
  {
   "cell_type": "code",
   "execution_count": null,
   "metadata": {},
   "outputs": [],
   "source": []
  }
 ],
 "metadata": {
  "kernelspec": {
   "display_name": ".venv",
   "language": "python",
   "name": "python3"
  },
  "language_info": {
   "codemirror_mode": {
    "name": "ipython",
    "version": 3
   },
   "file_extension": ".py",
   "mimetype": "text/x-python",
   "name": "python",
   "nbconvert_exporter": "python",
   "pygments_lexer": "ipython3",
   "version": "3.12.4"
  }
 },
 "nbformat": 4,
 "nbformat_minor": 2
}
