{
 "cells": [
  {
   "cell_type": "markdown",
   "metadata": {},
   "source": [
    "Data Encoding - Conversion of Categorical Data Into Numerical Data"
   ]
  },
  {
   "cell_type": "code",
   "execution_count": 27,
   "metadata": {},
   "outputs": [],
   "source": [
    "# !pip install scikit-learn"
   ]
  },
  {
   "cell_type": "code",
   "execution_count": 1,
   "metadata": {},
   "outputs": [],
   "source": [
    "import sys, os\n",
    "lib_path = os.path.abspath('../libs')\n",
    "sys.path.append(lib_path)"
   ]
  },
  {
   "cell_type": "code",
   "execution_count": null,
   "metadata": {},
   "outputs": [],
   "source": [
    "import pandas as pd\n",
    "from sklearn.preprocessing import LabelEncoder\n",
    "\n",
    "from InputOptimization import InputOptimization"
   ]
  },
  {
   "cell_type": "code",
   "execution_count": 3,
   "metadata": {},
   "outputs": [],
   "source": [
    "io = InputOptimization()"
   ]
  },
  {
   "cell_type": "code",
   "execution_count": 4,
   "metadata": {},
   "outputs": [
    {
     "data": {
      "text/html": [
       "<div>\n",
       "<style scoped>\n",
       "    .dataframe tbody tr th:only-of-type {\n",
       "        vertical-align: middle;\n",
       "    }\n",
       "\n",
       "    .dataframe tbody tr th {\n",
       "        vertical-align: top;\n",
       "    }\n",
       "\n",
       "    .dataframe thead th {\n",
       "        text-align: right;\n",
       "    }\n",
       "</style>\n",
       "<table border=\"1\" class=\"dataframe\">\n",
       "  <thead>\n",
       "    <tr style=\"text-align: right;\">\n",
       "      <th></th>\n",
       "      <th>Gender</th>\n",
       "      <th>Generation</th>\n",
       "      <th>Term Sub Reason</th>\n",
       "      <th>Employee Grade</th>\n",
       "      <th>Location</th>\n",
       "      <th>Career Bucket</th>\n",
       "      <th>Age Bucket</th>\n",
       "      <th>Manager ID</th>\n",
       "      <th>Talent</th>\n",
       "      <th>Department</th>\n",
       "      <th>active_months</th>\n",
       "    </tr>\n",
       "  </thead>\n",
       "  <tbody>\n",
       "    <tr>\n",
       "      <th>0</th>\n",
       "      <td>Female</td>\n",
       "      <td>Millennials</td>\n",
       "      <td>Career Growth</td>\n",
       "      <td>Junior</td>\n",
       "      <td>Bengaluru</td>\n",
       "      <td>Below 30</td>\n",
       "      <td>26 To 30</td>\n",
       "      <td>102292</td>\n",
       "      <td>NaN</td>\n",
       "      <td>AC</td>\n",
       "      <td>59.0</td>\n",
       "    </tr>\n",
       "    <tr>\n",
       "      <th>1</th>\n",
       "      <td>Female</td>\n",
       "      <td>Millennials</td>\n",
       "      <td>Career Growth</td>\n",
       "      <td>Mid</td>\n",
       "      <td>Bengaluru</td>\n",
       "      <td>31 to 35</td>\n",
       "      <td>26 To 30</td>\n",
       "      <td>100411</td>\n",
       "      <td>NaN</td>\n",
       "      <td>AD</td>\n",
       "      <td>4.0</td>\n",
       "    </tr>\n",
       "    <tr>\n",
       "      <th>2</th>\n",
       "      <td>Male</td>\n",
       "      <td>Millennials</td>\n",
       "      <td>Career Growth</td>\n",
       "      <td>Junior</td>\n",
       "      <td>Bengaluru</td>\n",
       "      <td>Below 30</td>\n",
       "      <td>26 To 30</td>\n",
       "      <td>102304</td>\n",
       "      <td>NaN</td>\n",
       "      <td>AG</td>\n",
       "      <td>26.0</td>\n",
       "    </tr>\n",
       "    <tr>\n",
       "      <th>3</th>\n",
       "      <td>Male</td>\n",
       "      <td>Gen X</td>\n",
       "      <td>Career Growth</td>\n",
       "      <td>Senior</td>\n",
       "      <td>Bengaluru</td>\n",
       "      <td>Above 35</td>\n",
       "      <td>36 T0 40</td>\n",
       "      <td>102324</td>\n",
       "      <td>NaN</td>\n",
       "      <td>AI</td>\n",
       "      <td>126.0</td>\n",
       "    </tr>\n",
       "    <tr>\n",
       "      <th>4</th>\n",
       "      <td>Male</td>\n",
       "      <td>Millennials</td>\n",
       "      <td>Personal Reason</td>\n",
       "      <td>Mid</td>\n",
       "      <td>Bengaluru</td>\n",
       "      <td>31 to 35</td>\n",
       "      <td>31 To 35</td>\n",
       "      <td>100619</td>\n",
       "      <td>NaN</td>\n",
       "      <td>AI</td>\n",
       "      <td>126.0</td>\n",
       "    </tr>\n",
       "  </tbody>\n",
       "</table>\n",
       "</div>"
      ],
      "text/plain": [
       "   Gender   Generation  Term Sub Reason Employee Grade   Location  \\\n",
       "0  Female  Millennials    Career Growth         Junior  Bengaluru   \n",
       "1  Female  Millennials    Career Growth            Mid  Bengaluru   \n",
       "2    Male  Millennials    Career Growth         Junior  Bengaluru   \n",
       "3    Male        Gen X    Career Growth         Senior  Bengaluru   \n",
       "4    Male  Millennials  Personal Reason            Mid  Bengaluru   \n",
       "\n",
       "  Career Bucket Age Bucket  Manager ID Talent Department  active_months  \n",
       "0      Below 30   26 To 30      102292    NaN         AC           59.0  \n",
       "1      31 to 35   26 To 30      100411    NaN         AD            4.0  \n",
       "2      Below 30   26 To 30      102304    NaN         AG           26.0  \n",
       "3      Above 35   36 T0 40      102324    NaN         AI          126.0  \n",
       "4      31 to 35   31 To 35      100619    NaN         AI          126.0  "
      ]
     },
     "execution_count": 4,
     "metadata": {},
     "output_type": "execute_result"
    }
   ],
   "source": [
    "df = pd.read_csv('../00_Data/04_NoOutliers.csv')\n",
    "df.head()"
   ]
  },
  {
   "cell_type": "code",
   "execution_count": 5,
   "metadata": {},
   "outputs": [
    {
     "data": {
      "text/plain": [
       "(552, 11)"
      ]
     },
     "execution_count": 5,
     "metadata": {},
     "output_type": "execute_result"
    }
   ],
   "source": [
    "df.shape"
   ]
  },
  {
   "cell_type": "code",
   "execution_count": 6,
   "metadata": {},
   "outputs": [
    {
     "data": {
      "text/html": [
       "<div>\n",
       "<style scoped>\n",
       "    .dataframe tbody tr th:only-of-type {\n",
       "        vertical-align: middle;\n",
       "    }\n",
       "\n",
       "    .dataframe tbody tr th {\n",
       "        vertical-align: top;\n",
       "    }\n",
       "\n",
       "    .dataframe thead th {\n",
       "        text-align: right;\n",
       "    }\n",
       "</style>\n",
       "<table border=\"1\" class=\"dataframe\">\n",
       "  <thead>\n",
       "    <tr style=\"text-align: right;\">\n",
       "      <th></th>\n",
       "      <th>Column</th>\n",
       "      <th>Data Type</th>\n",
       "      <th>Unique Values</th>\n",
       "    </tr>\n",
       "  </thead>\n",
       "  <tbody>\n",
       "    <tr>\n",
       "      <th>7</th>\n",
       "      <td>Manager ID</td>\n",
       "      <td>numerical</td>\n",
       "      <td>207</td>\n",
       "    </tr>\n",
       "    <tr>\n",
       "      <th>10</th>\n",
       "      <td>active_months</td>\n",
       "      <td>numerical</td>\n",
       "      <td>130</td>\n",
       "    </tr>\n",
       "    <tr>\n",
       "      <th>9</th>\n",
       "      <td>Department</td>\n",
       "      <td>categorical</td>\n",
       "      <td>58</td>\n",
       "    </tr>\n",
       "    <tr>\n",
       "      <th>2</th>\n",
       "      <td>Term Sub Reason</td>\n",
       "      <td>categorical</td>\n",
       "      <td>16</td>\n",
       "    </tr>\n",
       "    <tr>\n",
       "      <th>6</th>\n",
       "      <td>Age Bucket</td>\n",
       "      <td>categorical</td>\n",
       "      <td>7</td>\n",
       "    </tr>\n",
       "    <tr>\n",
       "      <th>4</th>\n",
       "      <td>Location</td>\n",
       "      <td>categorical</td>\n",
       "      <td>6</td>\n",
       "    </tr>\n",
       "    <tr>\n",
       "      <th>1</th>\n",
       "      <td>Generation</td>\n",
       "      <td>categorical</td>\n",
       "      <td>4</td>\n",
       "    </tr>\n",
       "    <tr>\n",
       "      <th>8</th>\n",
       "      <td>Talent</td>\n",
       "      <td>categorical</td>\n",
       "      <td>4</td>\n",
       "    </tr>\n",
       "    <tr>\n",
       "      <th>3</th>\n",
       "      <td>Employee Grade</td>\n",
       "      <td>categorical</td>\n",
       "      <td>3</td>\n",
       "    </tr>\n",
       "    <tr>\n",
       "      <th>5</th>\n",
       "      <td>Career Bucket</td>\n",
       "      <td>categorical</td>\n",
       "      <td>3</td>\n",
       "    </tr>\n",
       "    <tr>\n",
       "      <th>0</th>\n",
       "      <td>Gender</td>\n",
       "      <td>binary</td>\n",
       "      <td>2</td>\n",
       "    </tr>\n",
       "  </tbody>\n",
       "</table>\n",
       "</div>"
      ],
      "text/plain": [
       "             Column    Data Type  Unique Values\n",
       "7        Manager ID    numerical            207\n",
       "10    active_months    numerical            130\n",
       "9        Department  categorical             58\n",
       "2   Term Sub Reason  categorical             16\n",
       "6        Age Bucket  categorical              7\n",
       "4          Location  categorical              6\n",
       "1        Generation  categorical              4\n",
       "8            Talent  categorical              4\n",
       "3    Employee Grade  categorical              3\n",
       "5     Career Bucket  categorical              3\n",
       "0            Gender       binary              2"
      ]
     },
     "execution_count": 6,
     "metadata": {},
     "output_type": "execute_result"
    }
   ],
   "source": [
    "io.validate_types(df)"
   ]
  },
  {
   "cell_type": "markdown",
   "metadata": {},
   "source": [
    "Encoding Binary Columns"
   ]
  },
  {
   "cell_type": "code",
   "execution_count": 7,
   "metadata": {},
   "outputs": [
    {
     "data": {
      "text/plain": [
       "array(['Female', 'Male'], dtype=object)"
      ]
     },
     "execution_count": 7,
     "metadata": {},
     "output_type": "execute_result"
    }
   ],
   "source": [
    "df['Gender'].unique()"
   ]
  },
  {
   "cell_type": "code",
   "execution_count": 8,
   "metadata": {},
   "outputs": [],
   "source": [
    "def binary_encoding(df:pd.DataFrame, column:str, true_value:str):\n",
    "    \"\"\"Binary Encoding\"\"\"\n",
    "\n",
    "    unique_values = df[column].unique()\n",
    "\n",
    "    for val in unique_values:\n",
    "        if val == true_value:\n",
    "            df.loc[:, column] = df[column].replace(val, 1).infer_objects(copy=False)\n",
    "        else:\n",
    "            df.loc[:, column] = df[column].replace(val, 0).infer_objects(copy=False)\n",
    "\n",
    "    return df"
   ]
  },
  {
   "cell_type": "code",
   "execution_count": null,
   "metadata": {},
   "outputs": [],
   "source": [
    "df = binary_encoding(df, 'Gender', 'Female')\n",
    "df.head()"
   ]
  },
  {
   "cell_type": "code",
   "execution_count": 10,
   "metadata": {},
   "outputs": [
    {
     "data": {
      "text/plain": [
       "array([nan, 'C', 'B', 'D', 'A'], dtype=object)"
      ]
     },
     "execution_count": 10,
     "metadata": {},
     "output_type": "execute_result"
    }
   ],
   "source": [
    "df['Talent'].unique()"
   ]
  },
  {
   "cell_type": "markdown",
   "metadata": {},
   "source": [
    "Columns with more than 2 Unique Categorical Values"
   ]
  },
  {
   "cell_type": "markdown",
   "metadata": {},
   "source": [
    "1. Label Encoding"
   ]
  },
  {
   "cell_type": "code",
   "execution_count": 11,
   "metadata": {},
   "outputs": [],
   "source": [
    "label_cols = ['Term Sub Reason', 'Location', 'Talent', 'Department']"
   ]
  },
  {
   "cell_type": "code",
   "execution_count": 12,
   "metadata": {},
   "outputs": [],
   "source": [
    "# Label Encoding - If values are not in order\n",
    "def label_encoding(df:pd.DataFrame, columns:list):\n",
    "    \"\"\"Label Encoding Function\"\"\"\n",
    "\n",
    "    le = LabelEncoder()\n",
    "    for column in columns:\n",
    "        df[column] = le.fit_transform(df[column])\n",
    "        df[column] = df[column] + 1\n",
    "        df[column] = pd.to_numeric(df[column])\n",
    "    \n",
    "    return df"
   ]
  },
  {
   "cell_type": "code",
   "execution_count": 13,
   "metadata": {},
   "outputs": [
    {
     "data": {
      "text/plain": [
       "array(['Career Growth', 'Personal Reason', 'Relocated to Other Branch',\n",
       "       'Salary Hike', 'Higher Studies', 'Relocation to Native',\n",
       "       'Internal Politics', 'Company Rules', 'Health Issues',\n",
       "       'Work Life Balance', 'Marriage', 'Not Suitable Job for the Skills',\n",
       "       'Miscellaneous', 'Family Problems', 'Not Interested in JOB',\n",
       "       'Work Stress'], dtype=object)"
      ]
     },
     "execution_count": 13,
     "metadata": {},
     "output_type": "execute_result"
    }
   ],
   "source": [
    "df['Term Sub Reason'].unique()"
   ]
  },
  {
   "cell_type": "code",
   "execution_count": 14,
   "metadata": {},
   "outputs": [
    {
     "data": {
      "text/html": [
       "<div>\n",
       "<style scoped>\n",
       "    .dataframe tbody tr th:only-of-type {\n",
       "        vertical-align: middle;\n",
       "    }\n",
       "\n",
       "    .dataframe tbody tr th {\n",
       "        vertical-align: top;\n",
       "    }\n",
       "\n",
       "    .dataframe thead th {\n",
       "        text-align: right;\n",
       "    }\n",
       "</style>\n",
       "<table border=\"1\" class=\"dataframe\">\n",
       "  <thead>\n",
       "    <tr style=\"text-align: right;\">\n",
       "      <th></th>\n",
       "      <th>Gender</th>\n",
       "      <th>Generation</th>\n",
       "      <th>Term Sub Reason</th>\n",
       "      <th>Employee Grade</th>\n",
       "      <th>Location</th>\n",
       "      <th>Career Bucket</th>\n",
       "      <th>Age Bucket</th>\n",
       "      <th>Manager ID</th>\n",
       "      <th>Talent</th>\n",
       "      <th>Department</th>\n",
       "      <th>active_months</th>\n",
       "    </tr>\n",
       "  </thead>\n",
       "  <tbody>\n",
       "    <tr>\n",
       "      <th>0</th>\n",
       "      <td>1</td>\n",
       "      <td>Millennials</td>\n",
       "      <td>1</td>\n",
       "      <td>Junior</td>\n",
       "      <td>1</td>\n",
       "      <td>Below 30</td>\n",
       "      <td>26 To 30</td>\n",
       "      <td>102292</td>\n",
       "      <td>5</td>\n",
       "      <td>2</td>\n",
       "      <td>59.0</td>\n",
       "    </tr>\n",
       "    <tr>\n",
       "      <th>1</th>\n",
       "      <td>1</td>\n",
       "      <td>Millennials</td>\n",
       "      <td>1</td>\n",
       "      <td>Mid</td>\n",
       "      <td>1</td>\n",
       "      <td>31 to 35</td>\n",
       "      <td>26 To 30</td>\n",
       "      <td>100411</td>\n",
       "      <td>5</td>\n",
       "      <td>3</td>\n",
       "      <td>4.0</td>\n",
       "    </tr>\n",
       "    <tr>\n",
       "      <th>2</th>\n",
       "      <td>0</td>\n",
       "      <td>Millennials</td>\n",
       "      <td>1</td>\n",
       "      <td>Junior</td>\n",
       "      <td>1</td>\n",
       "      <td>Below 30</td>\n",
       "      <td>26 To 30</td>\n",
       "      <td>102304</td>\n",
       "      <td>5</td>\n",
       "      <td>5</td>\n",
       "      <td>26.0</td>\n",
       "    </tr>\n",
       "    <tr>\n",
       "      <th>3</th>\n",
       "      <td>0</td>\n",
       "      <td>Gen X</td>\n",
       "      <td>1</td>\n",
       "      <td>Senior</td>\n",
       "      <td>1</td>\n",
       "      <td>Above 35</td>\n",
       "      <td>36 T0 40</td>\n",
       "      <td>102324</td>\n",
       "      <td>5</td>\n",
       "      <td>7</td>\n",
       "      <td>126.0</td>\n",
       "    </tr>\n",
       "    <tr>\n",
       "      <th>4</th>\n",
       "      <td>0</td>\n",
       "      <td>Millennials</td>\n",
       "      <td>11</td>\n",
       "      <td>Mid</td>\n",
       "      <td>1</td>\n",
       "      <td>31 to 35</td>\n",
       "      <td>31 To 35</td>\n",
       "      <td>100619</td>\n",
       "      <td>5</td>\n",
       "      <td>7</td>\n",
       "      <td>126.0</td>\n",
       "    </tr>\n",
       "  </tbody>\n",
       "</table>\n",
       "</div>"
      ],
      "text/plain": [
       "  Gender   Generation  Term Sub Reason Employee Grade  Location Career Bucket  \\\n",
       "0      1  Millennials                1         Junior         1      Below 30   \n",
       "1      1  Millennials                1            Mid         1      31 to 35   \n",
       "2      0  Millennials                1         Junior         1      Below 30   \n",
       "3      0        Gen X                1         Senior         1      Above 35   \n",
       "4      0  Millennials               11            Mid         1      31 to 35   \n",
       "\n",
       "  Age Bucket  Manager ID  Talent  Department  active_months  \n",
       "0   26 To 30      102292       5           2           59.0  \n",
       "1   26 To 30      100411       5           3            4.0  \n",
       "2   26 To 30      102304       5           5           26.0  \n",
       "3   36 T0 40      102324       5           7          126.0  \n",
       "4   31 To 35      100619       5           7          126.0  "
      ]
     },
     "execution_count": 14,
     "metadata": {},
     "output_type": "execute_result"
    }
   ],
   "source": [
    "df = label_encoding(df, label_cols)\n",
    "df.head()"
   ]
  },
  {
   "cell_type": "code",
   "execution_count": 15,
   "metadata": {},
   "outputs": [
    {
     "data": {
      "text/plain": [
       "array([ 1, 11, 12, 14,  5, 13,  6,  2,  4, 15,  7, 10,  8,  3,  9, 16])"
      ]
     },
     "execution_count": 15,
     "metadata": {},
     "output_type": "execute_result"
    }
   ],
   "source": [
    "df['Term Sub Reason'].unique()"
   ]
  },
  {
   "cell_type": "markdown",
   "metadata": {},
   "source": [
    "2. Ordinal Encoding - For Ordered Values"
   ]
  },
  {
   "cell_type": "code",
   "execution_count": 16,
   "metadata": {},
   "outputs": [
    {
     "data": {
      "text/html": [
       "<div>\n",
       "<style scoped>\n",
       "    .dataframe tbody tr th:only-of-type {\n",
       "        vertical-align: middle;\n",
       "    }\n",
       "\n",
       "    .dataframe tbody tr th {\n",
       "        vertical-align: top;\n",
       "    }\n",
       "\n",
       "    .dataframe thead th {\n",
       "        text-align: right;\n",
       "    }\n",
       "</style>\n",
       "<table border=\"1\" class=\"dataframe\">\n",
       "  <thead>\n",
       "    <tr style=\"text-align: right;\">\n",
       "      <th></th>\n",
       "      <th>Gender</th>\n",
       "      <th>Generation</th>\n",
       "      <th>Term Sub Reason</th>\n",
       "      <th>Employee Grade</th>\n",
       "      <th>Location</th>\n",
       "      <th>Career Bucket</th>\n",
       "      <th>Age Bucket</th>\n",
       "      <th>Manager ID</th>\n",
       "      <th>Talent</th>\n",
       "      <th>Department</th>\n",
       "      <th>active_months</th>\n",
       "    </tr>\n",
       "  </thead>\n",
       "  <tbody>\n",
       "    <tr>\n",
       "      <th>0</th>\n",
       "      <td>1</td>\n",
       "      <td>Millennials</td>\n",
       "      <td>1</td>\n",
       "      <td>Junior</td>\n",
       "      <td>1</td>\n",
       "      <td>Below 30</td>\n",
       "      <td>26 To 30</td>\n",
       "      <td>102292</td>\n",
       "      <td>5</td>\n",
       "      <td>2</td>\n",
       "      <td>59.0</td>\n",
       "    </tr>\n",
       "    <tr>\n",
       "      <th>1</th>\n",
       "      <td>1</td>\n",
       "      <td>Millennials</td>\n",
       "      <td>1</td>\n",
       "      <td>Mid</td>\n",
       "      <td>1</td>\n",
       "      <td>31 to 35</td>\n",
       "      <td>26 To 30</td>\n",
       "      <td>100411</td>\n",
       "      <td>5</td>\n",
       "      <td>3</td>\n",
       "      <td>4.0</td>\n",
       "    </tr>\n",
       "    <tr>\n",
       "      <th>2</th>\n",
       "      <td>0</td>\n",
       "      <td>Millennials</td>\n",
       "      <td>1</td>\n",
       "      <td>Junior</td>\n",
       "      <td>1</td>\n",
       "      <td>Below 30</td>\n",
       "      <td>26 To 30</td>\n",
       "      <td>102304</td>\n",
       "      <td>5</td>\n",
       "      <td>5</td>\n",
       "      <td>26.0</td>\n",
       "    </tr>\n",
       "    <tr>\n",
       "      <th>3</th>\n",
       "      <td>0</td>\n",
       "      <td>Gen X</td>\n",
       "      <td>1</td>\n",
       "      <td>Senior</td>\n",
       "      <td>1</td>\n",
       "      <td>Above 35</td>\n",
       "      <td>36 T0 40</td>\n",
       "      <td>102324</td>\n",
       "      <td>5</td>\n",
       "      <td>7</td>\n",
       "      <td>126.0</td>\n",
       "    </tr>\n",
       "    <tr>\n",
       "      <th>4</th>\n",
       "      <td>0</td>\n",
       "      <td>Millennials</td>\n",
       "      <td>11</td>\n",
       "      <td>Mid</td>\n",
       "      <td>1</td>\n",
       "      <td>31 to 35</td>\n",
       "      <td>31 To 35</td>\n",
       "      <td>100619</td>\n",
       "      <td>5</td>\n",
       "      <td>7</td>\n",
       "      <td>126.0</td>\n",
       "    </tr>\n",
       "  </tbody>\n",
       "</table>\n",
       "</div>"
      ],
      "text/plain": [
       "  Gender   Generation  Term Sub Reason Employee Grade  Location Career Bucket  \\\n",
       "0      1  Millennials                1         Junior         1      Below 30   \n",
       "1      1  Millennials                1            Mid         1      31 to 35   \n",
       "2      0  Millennials                1         Junior         1      Below 30   \n",
       "3      0        Gen X                1         Senior         1      Above 35   \n",
       "4      0  Millennials               11            Mid         1      31 to 35   \n",
       "\n",
       "  Age Bucket  Manager ID  Talent  Department  active_months  \n",
       "0   26 To 30      102292       5           2           59.0  \n",
       "1   26 To 30      100411       5           3            4.0  \n",
       "2   26 To 30      102304       5           5           26.0  \n",
       "3   36 T0 40      102324       5           7          126.0  \n",
       "4   31 To 35      100619       5           7          126.0  "
      ]
     },
     "execution_count": 16,
     "metadata": {},
     "output_type": "execute_result"
    }
   ],
   "source": [
    "df.head()"
   ]
  },
  {
   "cell_type": "code",
   "execution_count": 17,
   "metadata": {},
   "outputs": [
    {
     "data": {
      "text/plain": [
       "array(['Millennials', 'Gen X', 'Baby Boomers', 'Gen Z'], dtype=object)"
      ]
     },
     "execution_count": 17,
     "metadata": {},
     "output_type": "execute_result"
    }
   ],
   "source": [
    "df['Generation'].unique()"
   ]
  },
  {
   "cell_type": "code",
   "execution_count": 18,
   "metadata": {},
   "outputs": [],
   "source": [
    "def ordinal_encoding(df:pd.DataFrame, column:str, order_list:list):\n",
    "    \"\"\"Encoding Ordered Data\"\"\"\n",
    "\n",
    "    data = df.copy()\n",
    "    count = 1\n",
    "    for item in order_list:\n",
    "        data[column] = data[column].replace(item, count)\n",
    "        count = count +1 \n",
    "\n",
    "    data[column] = pd.to_numeric(data[column])\n",
    "    return data"
   ]
  },
  {
   "cell_type": "code",
   "execution_count": null,
   "metadata": {},
   "outputs": [],
   "source": [
    "gen_list = ['Gen Z', 'Millennials', 'Gen X', 'Baby Boomers']\n",
    "df = ordinal_encoding(df, 'Generation', gen_list)\n",
    "df.head()"
   ]
  },
  {
   "cell_type": "code",
   "execution_count": 20,
   "metadata": {},
   "outputs": [
    {
     "data": {
      "text/plain": [
       "array(['Junior', 'Mid', 'Senior'], dtype=object)"
      ]
     },
     "execution_count": 20,
     "metadata": {},
     "output_type": "execute_result"
    }
   ],
   "source": [
    "df['Employee Grade'].unique()"
   ]
  },
  {
   "cell_type": "code",
   "execution_count": 21,
   "metadata": {},
   "outputs": [
    {
     "name": "stderr",
     "output_type": "stream",
     "text": [
      "/var/folders/rd/kzscdn0n7gzgnc23bnw2ct0m0000gn/T/ipykernel_53287/1136711216.py:7: FutureWarning: Downcasting behavior in `replace` is deprecated and will be removed in a future version. To retain the old behavior, explicitly call `result.infer_objects(copy=False)`. To opt-in to the future behavior, set `pd.set_option('future.no_silent_downcasting', True)`\n",
      "  data[column] = data[column].replace(item, count)\n"
     ]
    },
    {
     "data": {
      "text/html": [
       "<div>\n",
       "<style scoped>\n",
       "    .dataframe tbody tr th:only-of-type {\n",
       "        vertical-align: middle;\n",
       "    }\n",
       "\n",
       "    .dataframe tbody tr th {\n",
       "        vertical-align: top;\n",
       "    }\n",
       "\n",
       "    .dataframe thead th {\n",
       "        text-align: right;\n",
       "    }\n",
       "</style>\n",
       "<table border=\"1\" class=\"dataframe\">\n",
       "  <thead>\n",
       "    <tr style=\"text-align: right;\">\n",
       "      <th></th>\n",
       "      <th>Gender</th>\n",
       "      <th>Generation</th>\n",
       "      <th>Term Sub Reason</th>\n",
       "      <th>Employee Grade</th>\n",
       "      <th>Location</th>\n",
       "      <th>Career Bucket</th>\n",
       "      <th>Age Bucket</th>\n",
       "      <th>Manager ID</th>\n",
       "      <th>Talent</th>\n",
       "      <th>Department</th>\n",
       "      <th>active_months</th>\n",
       "    </tr>\n",
       "  </thead>\n",
       "  <tbody>\n",
       "    <tr>\n",
       "      <th>0</th>\n",
       "      <td>1</td>\n",
       "      <td>2</td>\n",
       "      <td>1</td>\n",
       "      <td>1</td>\n",
       "      <td>1</td>\n",
       "      <td>Below 30</td>\n",
       "      <td>26 To 30</td>\n",
       "      <td>102292</td>\n",
       "      <td>5</td>\n",
       "      <td>2</td>\n",
       "      <td>59.0</td>\n",
       "    </tr>\n",
       "    <tr>\n",
       "      <th>1</th>\n",
       "      <td>1</td>\n",
       "      <td>2</td>\n",
       "      <td>1</td>\n",
       "      <td>2</td>\n",
       "      <td>1</td>\n",
       "      <td>31 to 35</td>\n",
       "      <td>26 To 30</td>\n",
       "      <td>100411</td>\n",
       "      <td>5</td>\n",
       "      <td>3</td>\n",
       "      <td>4.0</td>\n",
       "    </tr>\n",
       "    <tr>\n",
       "      <th>2</th>\n",
       "      <td>0</td>\n",
       "      <td>2</td>\n",
       "      <td>1</td>\n",
       "      <td>1</td>\n",
       "      <td>1</td>\n",
       "      <td>Below 30</td>\n",
       "      <td>26 To 30</td>\n",
       "      <td>102304</td>\n",
       "      <td>5</td>\n",
       "      <td>5</td>\n",
       "      <td>26.0</td>\n",
       "    </tr>\n",
       "    <tr>\n",
       "      <th>3</th>\n",
       "      <td>0</td>\n",
       "      <td>3</td>\n",
       "      <td>1</td>\n",
       "      <td>3</td>\n",
       "      <td>1</td>\n",
       "      <td>Above 35</td>\n",
       "      <td>36 T0 40</td>\n",
       "      <td>102324</td>\n",
       "      <td>5</td>\n",
       "      <td>7</td>\n",
       "      <td>126.0</td>\n",
       "    </tr>\n",
       "    <tr>\n",
       "      <th>4</th>\n",
       "      <td>0</td>\n",
       "      <td>2</td>\n",
       "      <td>11</td>\n",
       "      <td>2</td>\n",
       "      <td>1</td>\n",
       "      <td>31 to 35</td>\n",
       "      <td>31 To 35</td>\n",
       "      <td>100619</td>\n",
       "      <td>5</td>\n",
       "      <td>7</td>\n",
       "      <td>126.0</td>\n",
       "    </tr>\n",
       "  </tbody>\n",
       "</table>\n",
       "</div>"
      ],
      "text/plain": [
       "  Gender  Generation  Term Sub Reason  Employee Grade  Location Career Bucket  \\\n",
       "0      1           2                1               1         1      Below 30   \n",
       "1      1           2                1               2         1      31 to 35   \n",
       "2      0           2                1               1         1      Below 30   \n",
       "3      0           3                1               3         1      Above 35   \n",
       "4      0           2               11               2         1      31 to 35   \n",
       "\n",
       "  Age Bucket  Manager ID  Talent  Department  active_months  \n",
       "0   26 To 30      102292       5           2           59.0  \n",
       "1   26 To 30      100411       5           3            4.0  \n",
       "2   26 To 30      102304       5           5           26.0  \n",
       "3   36 T0 40      102324       5           7          126.0  \n",
       "4   31 To 35      100619       5           7          126.0  "
      ]
     },
     "execution_count": 21,
     "metadata": {},
     "output_type": "execute_result"
    }
   ],
   "source": [
    "gen_list = ['Junior', 'Mid', 'Senior']\n",
    "df = ordinal_encoding(df, 'Employee Grade', gen_list)\n",
    "df.head()"
   ]
  },
  {
   "cell_type": "code",
   "execution_count": 22,
   "metadata": {},
   "outputs": [
    {
     "data": {
      "text/plain": [
       "array(['Below 30', '31 to 35', 'Above 35'], dtype=object)"
      ]
     },
     "execution_count": 22,
     "metadata": {},
     "output_type": "execute_result"
    }
   ],
   "source": [
    "df['Career Bucket'].unique()"
   ]
  },
  {
   "cell_type": "code",
   "execution_count": null,
   "metadata": {},
   "outputs": [],
   "source": [
    "gen_list = ['Below 30', '31 to 35', 'Above 35']\n",
    "df = ordinal_encoding(df, 'Career Bucket', gen_list)\n",
    "df.head()"
   ]
  },
  {
   "cell_type": "code",
   "execution_count": 24,
   "metadata": {},
   "outputs": [
    {
     "data": {
      "text/plain": [
       "array(['26 To 30', '36 T0 40', '31 To 35', '21 To 25', '41 T0 45',\n",
       "       '46 T0 50', '51 T0 55'], dtype=object)"
      ]
     },
     "execution_count": 24,
     "metadata": {},
     "output_type": "execute_result"
    }
   ],
   "source": [
    "df['Age Bucket'].unique()"
   ]
  },
  {
   "cell_type": "code",
   "execution_count": null,
   "metadata": {},
   "outputs": [],
   "source": [
    "order_list = ['21 To 25', '26 To 30', '31 To 35', '36 T0 40',  '41 T0 45', '46 T0 50', '51 T0 55']\n",
    "df = ordinal_encoding(df, 'Age Bucket', order_list)\n",
    "df.head()"
   ]
  },
  {
   "cell_type": "code",
   "execution_count": 28,
   "metadata": {},
   "outputs": [],
   "source": [
    "df.to_csv('../00_Data/05_Encoded.csv', index=False)"
   ]
  }
 ],
 "metadata": {
  "kernelspec": {
   "display_name": ".venv",
   "language": "python",
   "name": "python3"
  },
  "language_info": {
   "codemirror_mode": {
    "name": "ipython",
    "version": 3
   },
   "file_extension": ".py",
   "mimetype": "text/x-python",
   "name": "python",
   "nbconvert_exporter": "python",
   "pygments_lexer": "ipython3",
   "version": "3.12.4"
  }
 },
 "nbformat": 4,
 "nbformat_minor": 2
}
