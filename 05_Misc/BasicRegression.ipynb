{
 "cells": [
  {
   "cell_type": "markdown",
   "metadata": {},
   "source": [
    "Basic Regression"
   ]
  },
  {
   "cell_type": "code",
   "execution_count": 587,
   "metadata": {},
   "outputs": [],
   "source": [
    "# !pip install openpyxl"
   ]
  },
  {
   "cell_type": "markdown",
   "metadata": {},
   "source": [
    "1. Import Libraries"
   ]
  },
  {
   "cell_type": "code",
   "execution_count": 588,
   "metadata": {},
   "outputs": [],
   "source": [
    "import pandas as pd\n",
    "import matplotlib.pyplot as plt\n",
    "\n",
    "from sklearn.model_selection import train_test_split\n",
    "from sklearn.linear_model import LinearRegression\n",
    "from sklearn.metrics import mean_squared_error, mean_absolute_error\n",
    "\n",
    "import math"
   ]
  },
  {
   "cell_type": "markdown",
   "metadata": {},
   "source": [
    "2. Load Data"
   ]
  },
  {
   "cell_type": "code",
   "execution_count": 589,
   "metadata": {},
   "outputs": [
    {
     "data": {
      "text/html": [
       "<div>\n",
       "<style scoped>\n",
       "    .dataframe tbody tr th:only-of-type {\n",
       "        vertical-align: middle;\n",
       "    }\n",
       "\n",
       "    .dataframe tbody tr th {\n",
       "        vertical-align: top;\n",
       "    }\n",
       "\n",
       "    .dataframe thead th {\n",
       "        text-align: right;\n",
       "    }\n",
       "</style>\n",
       "<table border=\"1\" class=\"dataframe\">\n",
       "  <thead>\n",
       "    <tr style=\"text-align: right;\">\n",
       "      <th></th>\n",
       "      <th>Road</th>\n",
       "      <th>Poles</th>\n",
       "    </tr>\n",
       "  </thead>\n",
       "  <tbody>\n",
       "    <tr>\n",
       "      <th>0</th>\n",
       "      <td>849.000</td>\n",
       "      <td>29839</td>\n",
       "    </tr>\n",
       "    <tr>\n",
       "      <th>1</th>\n",
       "      <td>594.725</td>\n",
       "      <td>23789</td>\n",
       "    </tr>\n",
       "    <tr>\n",
       "      <th>2</th>\n",
       "      <td>587.400</td>\n",
       "      <td>23496</td>\n",
       "    </tr>\n",
       "    <tr>\n",
       "      <th>3</th>\n",
       "      <td>575.200</td>\n",
       "      <td>23008</td>\n",
       "    </tr>\n",
       "    <tr>\n",
       "      <th>4</th>\n",
       "      <td>571.925</td>\n",
       "      <td>22877</td>\n",
       "    </tr>\n",
       "  </tbody>\n",
       "</table>\n",
       "</div>"
      ],
      "text/plain": [
       "      Road  Poles\n",
       "0  849.000  29839\n",
       "1  594.725  23789\n",
       "2  587.400  23496\n",
       "3  575.200  23008\n",
       "4  571.925  22877"
      ]
     },
     "execution_count": 589,
     "metadata": {},
     "output_type": "execute_result"
    }
   ],
   "source": [
    "df = pd.read_excel('../00_Data/streetlights_india.xlsx')\n",
    "df.head()"
   ]
  },
  {
   "cell_type": "markdown",
   "metadata": {},
   "source": [
    "3. Split Feature and Target"
   ]
  },
  {
   "cell_type": "code",
   "execution_count": 590,
   "metadata": {},
   "outputs": [],
   "source": [
    "X = df[['Road']]\n",
    "y = df['Poles']"
   ]
  },
  {
   "cell_type": "markdown",
   "metadata": {},
   "source": [
    "4. Split Training and Testing Data"
   ]
  },
  {
   "cell_type": "code",
   "execution_count": 591,
   "metadata": {},
   "outputs": [],
   "source": [
    "X_train, X_test, y_train, y_test = train_test_split(X, y, test_size=0.3)"
   ]
  },
  {
   "cell_type": "markdown",
   "metadata": {},
   "source": [
    "5. Build Model"
   ]
  },
  {
   "cell_type": "code",
   "execution_count": 592,
   "metadata": {},
   "outputs": [
    {
     "data": {
      "text/html": [
       "<style>#sk-container-id-32 {\n",
       "  /* Definition of color scheme common for light and dark mode */\n",
       "  --sklearn-color-text: #000;\n",
       "  --sklearn-color-text-muted: #666;\n",
       "  --sklearn-color-line: gray;\n",
       "  /* Definition of color scheme for unfitted estimators */\n",
       "  --sklearn-color-unfitted-level-0: #fff5e6;\n",
       "  --sklearn-color-unfitted-level-1: #f6e4d2;\n",
       "  --sklearn-color-unfitted-level-2: #ffe0b3;\n",
       "  --sklearn-color-unfitted-level-3: chocolate;\n",
       "  /* Definition of color scheme for fitted estimators */\n",
       "  --sklearn-color-fitted-level-0: #f0f8ff;\n",
       "  --sklearn-color-fitted-level-1: #d4ebff;\n",
       "  --sklearn-color-fitted-level-2: #b3dbfd;\n",
       "  --sklearn-color-fitted-level-3: cornflowerblue;\n",
       "\n",
       "  /* Specific color for light theme */\n",
       "  --sklearn-color-text-on-default-background: var(--sg-text-color, var(--theme-code-foreground, var(--jp-content-font-color1, black)));\n",
       "  --sklearn-color-background: var(--sg-background-color, var(--theme-background, var(--jp-layout-color0, white)));\n",
       "  --sklearn-color-border-box: var(--sg-text-color, var(--theme-code-foreground, var(--jp-content-font-color1, black)));\n",
       "  --sklearn-color-icon: #696969;\n",
       "\n",
       "  @media (prefers-color-scheme: dark) {\n",
       "    /* Redefinition of color scheme for dark theme */\n",
       "    --sklearn-color-text-on-default-background: var(--sg-text-color, var(--theme-code-foreground, var(--jp-content-font-color1, white)));\n",
       "    --sklearn-color-background: var(--sg-background-color, var(--theme-background, var(--jp-layout-color0, #111)));\n",
       "    --sklearn-color-border-box: var(--sg-text-color, var(--theme-code-foreground, var(--jp-content-font-color1, white)));\n",
       "    --sklearn-color-icon: #878787;\n",
       "  }\n",
       "}\n",
       "\n",
       "#sk-container-id-32 {\n",
       "  color: var(--sklearn-color-text);\n",
       "}\n",
       "\n",
       "#sk-container-id-32 pre {\n",
       "  padding: 0;\n",
       "}\n",
       "\n",
       "#sk-container-id-32 input.sk-hidden--visually {\n",
       "  border: 0;\n",
       "  clip: rect(1px 1px 1px 1px);\n",
       "  clip: rect(1px, 1px, 1px, 1px);\n",
       "  height: 1px;\n",
       "  margin: -1px;\n",
       "  overflow: hidden;\n",
       "  padding: 0;\n",
       "  position: absolute;\n",
       "  width: 1px;\n",
       "}\n",
       "\n",
       "#sk-container-id-32 div.sk-dashed-wrapped {\n",
       "  border: 1px dashed var(--sklearn-color-line);\n",
       "  margin: 0 0.4em 0.5em 0.4em;\n",
       "  box-sizing: border-box;\n",
       "  padding-bottom: 0.4em;\n",
       "  background-color: var(--sklearn-color-background);\n",
       "}\n",
       "\n",
       "#sk-container-id-32 div.sk-container {\n",
       "  /* jupyter's `normalize.less` sets `[hidden] { display: none; }`\n",
       "     but bootstrap.min.css set `[hidden] { display: none !important; }`\n",
       "     so we also need the `!important` here to be able to override the\n",
       "     default hidden behavior on the sphinx rendered scikit-learn.org.\n",
       "     See: https://github.com/scikit-learn/scikit-learn/issues/21755 */\n",
       "  display: inline-block !important;\n",
       "  position: relative;\n",
       "}\n",
       "\n",
       "#sk-container-id-32 div.sk-text-repr-fallback {\n",
       "  display: none;\n",
       "}\n",
       "\n",
       "div.sk-parallel-item,\n",
       "div.sk-serial,\n",
       "div.sk-item {\n",
       "  /* draw centered vertical line to link estimators */\n",
       "  background-image: linear-gradient(var(--sklearn-color-text-on-default-background), var(--sklearn-color-text-on-default-background));\n",
       "  background-size: 2px 100%;\n",
       "  background-repeat: no-repeat;\n",
       "  background-position: center center;\n",
       "}\n",
       "\n",
       "/* Parallel-specific style estimator block */\n",
       "\n",
       "#sk-container-id-32 div.sk-parallel-item::after {\n",
       "  content: \"\";\n",
       "  width: 100%;\n",
       "  border-bottom: 2px solid var(--sklearn-color-text-on-default-background);\n",
       "  flex-grow: 1;\n",
       "}\n",
       "\n",
       "#sk-container-id-32 div.sk-parallel {\n",
       "  display: flex;\n",
       "  align-items: stretch;\n",
       "  justify-content: center;\n",
       "  background-color: var(--sklearn-color-background);\n",
       "  position: relative;\n",
       "}\n",
       "\n",
       "#sk-container-id-32 div.sk-parallel-item {\n",
       "  display: flex;\n",
       "  flex-direction: column;\n",
       "}\n",
       "\n",
       "#sk-container-id-32 div.sk-parallel-item:first-child::after {\n",
       "  align-self: flex-end;\n",
       "  width: 50%;\n",
       "}\n",
       "\n",
       "#sk-container-id-32 div.sk-parallel-item:last-child::after {\n",
       "  align-self: flex-start;\n",
       "  width: 50%;\n",
       "}\n",
       "\n",
       "#sk-container-id-32 div.sk-parallel-item:only-child::after {\n",
       "  width: 0;\n",
       "}\n",
       "\n",
       "/* Serial-specific style estimator block */\n",
       "\n",
       "#sk-container-id-32 div.sk-serial {\n",
       "  display: flex;\n",
       "  flex-direction: column;\n",
       "  align-items: center;\n",
       "  background-color: var(--sklearn-color-background);\n",
       "  padding-right: 1em;\n",
       "  padding-left: 1em;\n",
       "}\n",
       "\n",
       "\n",
       "/* Toggleable style: style used for estimator/Pipeline/ColumnTransformer box that is\n",
       "clickable and can be expanded/collapsed.\n",
       "- Pipeline and ColumnTransformer use this feature and define the default style\n",
       "- Estimators will overwrite some part of the style using the `sk-estimator` class\n",
       "*/\n",
       "\n",
       "/* Pipeline and ColumnTransformer style (default) */\n",
       "\n",
       "#sk-container-id-32 div.sk-toggleable {\n",
       "  /* Default theme specific background. It is overwritten whether we have a\n",
       "  specific estimator or a Pipeline/ColumnTransformer */\n",
       "  background-color: var(--sklearn-color-background);\n",
       "}\n",
       "\n",
       "/* Toggleable label */\n",
       "#sk-container-id-32 label.sk-toggleable__label {\n",
       "  cursor: pointer;\n",
       "  display: flex;\n",
       "  width: 100%;\n",
       "  margin-bottom: 0;\n",
       "  padding: 0.5em;\n",
       "  box-sizing: border-box;\n",
       "  text-align: center;\n",
       "  align-items: start;\n",
       "  justify-content: space-between;\n",
       "  gap: 0.5em;\n",
       "}\n",
       "\n",
       "#sk-container-id-32 label.sk-toggleable__label .caption {\n",
       "  font-size: 0.6rem;\n",
       "  font-weight: lighter;\n",
       "  color: var(--sklearn-color-text-muted);\n",
       "}\n",
       "\n",
       "#sk-container-id-32 label.sk-toggleable__label-arrow:before {\n",
       "  /* Arrow on the left of the label */\n",
       "  content: \"▸\";\n",
       "  float: left;\n",
       "  margin-right: 0.25em;\n",
       "  color: var(--sklearn-color-icon);\n",
       "}\n",
       "\n",
       "#sk-container-id-32 label.sk-toggleable__label-arrow:hover:before {\n",
       "  color: var(--sklearn-color-text);\n",
       "}\n",
       "\n",
       "/* Toggleable content - dropdown */\n",
       "\n",
       "#sk-container-id-32 div.sk-toggleable__content {\n",
       "  max-height: 0;\n",
       "  max-width: 0;\n",
       "  overflow: hidden;\n",
       "  text-align: left;\n",
       "  /* unfitted */\n",
       "  background-color: var(--sklearn-color-unfitted-level-0);\n",
       "}\n",
       "\n",
       "#sk-container-id-32 div.sk-toggleable__content.fitted {\n",
       "  /* fitted */\n",
       "  background-color: var(--sklearn-color-fitted-level-0);\n",
       "}\n",
       "\n",
       "#sk-container-id-32 div.sk-toggleable__content pre {\n",
       "  margin: 0.2em;\n",
       "  border-radius: 0.25em;\n",
       "  color: var(--sklearn-color-text);\n",
       "  /* unfitted */\n",
       "  background-color: var(--sklearn-color-unfitted-level-0);\n",
       "}\n",
       "\n",
       "#sk-container-id-32 div.sk-toggleable__content.fitted pre {\n",
       "  /* unfitted */\n",
       "  background-color: var(--sklearn-color-fitted-level-0);\n",
       "}\n",
       "\n",
       "#sk-container-id-32 input.sk-toggleable__control:checked~div.sk-toggleable__content {\n",
       "  /* Expand drop-down */\n",
       "  max-height: 200px;\n",
       "  max-width: 100%;\n",
       "  overflow: auto;\n",
       "}\n",
       "\n",
       "#sk-container-id-32 input.sk-toggleable__control:checked~label.sk-toggleable__label-arrow:before {\n",
       "  content: \"▾\";\n",
       "}\n",
       "\n",
       "/* Pipeline/ColumnTransformer-specific style */\n",
       "\n",
       "#sk-container-id-32 div.sk-label input.sk-toggleable__control:checked~label.sk-toggleable__label {\n",
       "  color: var(--sklearn-color-text);\n",
       "  background-color: var(--sklearn-color-unfitted-level-2);\n",
       "}\n",
       "\n",
       "#sk-container-id-32 div.sk-label.fitted input.sk-toggleable__control:checked~label.sk-toggleable__label {\n",
       "  background-color: var(--sklearn-color-fitted-level-2);\n",
       "}\n",
       "\n",
       "/* Estimator-specific style */\n",
       "\n",
       "/* Colorize estimator box */\n",
       "#sk-container-id-32 div.sk-estimator input.sk-toggleable__control:checked~label.sk-toggleable__label {\n",
       "  /* unfitted */\n",
       "  background-color: var(--sklearn-color-unfitted-level-2);\n",
       "}\n",
       "\n",
       "#sk-container-id-32 div.sk-estimator.fitted input.sk-toggleable__control:checked~label.sk-toggleable__label {\n",
       "  /* fitted */\n",
       "  background-color: var(--sklearn-color-fitted-level-2);\n",
       "}\n",
       "\n",
       "#sk-container-id-32 div.sk-label label.sk-toggleable__label,\n",
       "#sk-container-id-32 div.sk-label label {\n",
       "  /* The background is the default theme color */\n",
       "  color: var(--sklearn-color-text-on-default-background);\n",
       "}\n",
       "\n",
       "/* On hover, darken the color of the background */\n",
       "#sk-container-id-32 div.sk-label:hover label.sk-toggleable__label {\n",
       "  color: var(--sklearn-color-text);\n",
       "  background-color: var(--sklearn-color-unfitted-level-2);\n",
       "}\n",
       "\n",
       "/* Label box, darken color on hover, fitted */\n",
       "#sk-container-id-32 div.sk-label.fitted:hover label.sk-toggleable__label.fitted {\n",
       "  color: var(--sklearn-color-text);\n",
       "  background-color: var(--sklearn-color-fitted-level-2);\n",
       "}\n",
       "\n",
       "/* Estimator label */\n",
       "\n",
       "#sk-container-id-32 div.sk-label label {\n",
       "  font-family: monospace;\n",
       "  font-weight: bold;\n",
       "  display: inline-block;\n",
       "  line-height: 1.2em;\n",
       "}\n",
       "\n",
       "#sk-container-id-32 div.sk-label-container {\n",
       "  text-align: center;\n",
       "}\n",
       "\n",
       "/* Estimator-specific */\n",
       "#sk-container-id-32 div.sk-estimator {\n",
       "  font-family: monospace;\n",
       "  border: 1px dotted var(--sklearn-color-border-box);\n",
       "  border-radius: 0.25em;\n",
       "  box-sizing: border-box;\n",
       "  margin-bottom: 0.5em;\n",
       "  /* unfitted */\n",
       "  background-color: var(--sklearn-color-unfitted-level-0);\n",
       "}\n",
       "\n",
       "#sk-container-id-32 div.sk-estimator.fitted {\n",
       "  /* fitted */\n",
       "  background-color: var(--sklearn-color-fitted-level-0);\n",
       "}\n",
       "\n",
       "/* on hover */\n",
       "#sk-container-id-32 div.sk-estimator:hover {\n",
       "  /* unfitted */\n",
       "  background-color: var(--sklearn-color-unfitted-level-2);\n",
       "}\n",
       "\n",
       "#sk-container-id-32 div.sk-estimator.fitted:hover {\n",
       "  /* fitted */\n",
       "  background-color: var(--sklearn-color-fitted-level-2);\n",
       "}\n",
       "\n",
       "/* Specification for estimator info (e.g. \"i\" and \"?\") */\n",
       "\n",
       "/* Common style for \"i\" and \"?\" */\n",
       "\n",
       ".sk-estimator-doc-link,\n",
       "a:link.sk-estimator-doc-link,\n",
       "a:visited.sk-estimator-doc-link {\n",
       "  float: right;\n",
       "  font-size: smaller;\n",
       "  line-height: 1em;\n",
       "  font-family: monospace;\n",
       "  background-color: var(--sklearn-color-background);\n",
       "  border-radius: 1em;\n",
       "  height: 1em;\n",
       "  width: 1em;\n",
       "  text-decoration: none !important;\n",
       "  margin-left: 0.5em;\n",
       "  text-align: center;\n",
       "  /* unfitted */\n",
       "  border: var(--sklearn-color-unfitted-level-1) 1pt solid;\n",
       "  color: var(--sklearn-color-unfitted-level-1);\n",
       "}\n",
       "\n",
       ".sk-estimator-doc-link.fitted,\n",
       "a:link.sk-estimator-doc-link.fitted,\n",
       "a:visited.sk-estimator-doc-link.fitted {\n",
       "  /* fitted */\n",
       "  border: var(--sklearn-color-fitted-level-1) 1pt solid;\n",
       "  color: var(--sklearn-color-fitted-level-1);\n",
       "}\n",
       "\n",
       "/* On hover */\n",
       "div.sk-estimator:hover .sk-estimator-doc-link:hover,\n",
       ".sk-estimator-doc-link:hover,\n",
       "div.sk-label-container:hover .sk-estimator-doc-link:hover,\n",
       ".sk-estimator-doc-link:hover {\n",
       "  /* unfitted */\n",
       "  background-color: var(--sklearn-color-unfitted-level-3);\n",
       "  color: var(--sklearn-color-background);\n",
       "  text-decoration: none;\n",
       "}\n",
       "\n",
       "div.sk-estimator.fitted:hover .sk-estimator-doc-link.fitted:hover,\n",
       ".sk-estimator-doc-link.fitted:hover,\n",
       "div.sk-label-container:hover .sk-estimator-doc-link.fitted:hover,\n",
       ".sk-estimator-doc-link.fitted:hover {\n",
       "  /* fitted */\n",
       "  background-color: var(--sklearn-color-fitted-level-3);\n",
       "  color: var(--sklearn-color-background);\n",
       "  text-decoration: none;\n",
       "}\n",
       "\n",
       "/* Span, style for the box shown on hovering the info icon */\n",
       ".sk-estimator-doc-link span {\n",
       "  display: none;\n",
       "  z-index: 9999;\n",
       "  position: relative;\n",
       "  font-weight: normal;\n",
       "  right: .2ex;\n",
       "  padding: .5ex;\n",
       "  margin: .5ex;\n",
       "  width: min-content;\n",
       "  min-width: 20ex;\n",
       "  max-width: 50ex;\n",
       "  color: var(--sklearn-color-text);\n",
       "  box-shadow: 2pt 2pt 4pt #999;\n",
       "  /* unfitted */\n",
       "  background: var(--sklearn-color-unfitted-level-0);\n",
       "  border: .5pt solid var(--sklearn-color-unfitted-level-3);\n",
       "}\n",
       "\n",
       ".sk-estimator-doc-link.fitted span {\n",
       "  /* fitted */\n",
       "  background: var(--sklearn-color-fitted-level-0);\n",
       "  border: var(--sklearn-color-fitted-level-3);\n",
       "}\n",
       "\n",
       ".sk-estimator-doc-link:hover span {\n",
       "  display: block;\n",
       "}\n",
       "\n",
       "/* \"?\"-specific style due to the `<a>` HTML tag */\n",
       "\n",
       "#sk-container-id-32 a.estimator_doc_link {\n",
       "  float: right;\n",
       "  font-size: 1rem;\n",
       "  line-height: 1em;\n",
       "  font-family: monospace;\n",
       "  background-color: var(--sklearn-color-background);\n",
       "  border-radius: 1rem;\n",
       "  height: 1rem;\n",
       "  width: 1rem;\n",
       "  text-decoration: none;\n",
       "  /* unfitted */\n",
       "  color: var(--sklearn-color-unfitted-level-1);\n",
       "  border: var(--sklearn-color-unfitted-level-1) 1pt solid;\n",
       "}\n",
       "\n",
       "#sk-container-id-32 a.estimator_doc_link.fitted {\n",
       "  /* fitted */\n",
       "  border: var(--sklearn-color-fitted-level-1) 1pt solid;\n",
       "  color: var(--sklearn-color-fitted-level-1);\n",
       "}\n",
       "\n",
       "/* On hover */\n",
       "#sk-container-id-32 a.estimator_doc_link:hover {\n",
       "  /* unfitted */\n",
       "  background-color: var(--sklearn-color-unfitted-level-3);\n",
       "  color: var(--sklearn-color-background);\n",
       "  text-decoration: none;\n",
       "}\n",
       "\n",
       "#sk-container-id-32 a.estimator_doc_link.fitted:hover {\n",
       "  /* fitted */\n",
       "  background-color: var(--sklearn-color-fitted-level-3);\n",
       "}\n",
       "</style><div id=\"sk-container-id-32\" class=\"sk-top-container\"><div class=\"sk-text-repr-fallback\"><pre>LinearRegression()</pre><b>In a Jupyter environment, please rerun this cell to show the HTML representation or trust the notebook. <br />On GitHub, the HTML representation is unable to render, please try loading this page with nbviewer.org.</b></div><div class=\"sk-container\" hidden><div class=\"sk-item\"><div class=\"sk-estimator fitted sk-toggleable\"><input class=\"sk-toggleable__control sk-hidden--visually\" id=\"sk-estimator-id-32\" type=\"checkbox\" checked><label for=\"sk-estimator-id-32\" class=\"sk-toggleable__label fitted sk-toggleable__label-arrow\"><div><div>LinearRegression</div></div><div><a class=\"sk-estimator-doc-link fitted\" rel=\"noreferrer\" target=\"_blank\" href=\"https://scikit-learn.org/1.6/modules/generated/sklearn.linear_model.LinearRegression.html\">?<span>Documentation for LinearRegression</span></a><span class=\"sk-estimator-doc-link fitted\">i<span>Fitted</span></span></div></label><div class=\"sk-toggleable__content fitted\"><pre>LinearRegression()</pre></div> </div></div></div></div>"
      ],
      "text/plain": [
       "LinearRegression()"
      ]
     },
     "execution_count": 592,
     "metadata": {},
     "output_type": "execute_result"
    }
   ],
   "source": [
    "model = LinearRegression()\n",
    "model.fit(X_train, y_train)"
   ]
  },
  {
   "cell_type": "markdown",
   "metadata": {},
   "source": [
    "y = mx + c\n",
    "\n",
    "m => Slope <br>\n",
    "c => Intercept"
   ]
  },
  {
   "cell_type": "code",
   "execution_count": 593,
   "metadata": {},
   "outputs": [
    {
     "data": {
      "text/plain": [
       "array([37.88167835])"
      ]
     },
     "execution_count": 593,
     "metadata": {},
     "output_type": "execute_result"
    }
   ],
   "source": [
    "# Slope\n",
    "slope = model.coef_\n",
    "slope"
   ]
  },
  {
   "cell_type": "code",
   "execution_count": 594,
   "metadata": {},
   "outputs": [
    {
     "data": {
      "text/plain": [
       "np.float64(-20.424437181917142)"
      ]
     },
     "execution_count": 594,
     "metadata": {},
     "output_type": "execute_result"
    }
   ],
   "source": [
    "# Intercept\n",
    "intercept = model.intercept_\n",
    "intercept"
   ]
  },
  {
   "cell_type": "markdown",
   "metadata": {},
   "source": [
    "y = 38.6x - 30"
   ]
  },
  {
   "cell_type": "code",
   "execution_count": 595,
   "metadata": {},
   "outputs": [
    {
     "data": {
      "text/plain": [
       "3830.0"
      ]
     },
     "execution_count": 595,
     "metadata": {},
     "output_type": "execute_result"
    }
   ],
   "source": [
    "# x = 100km\n",
    "\n",
    "y = (38.6 * 100) - 30\n",
    "y"
   ]
  },
  {
   "cell_type": "code",
   "execution_count": null,
   "metadata": {},
   "outputs": [],
   "source": [
    "model.predict([[100]])"
   ]
  },
  {
   "cell_type": "markdown",
   "metadata": {},
   "source": [
    "Visual Analysis"
   ]
  },
  {
   "cell_type": "code",
   "execution_count": 597,
   "metadata": {},
   "outputs": [
    {
     "data": {
      "text/plain": [
       "<matplotlib.collections.PathCollection at 0x174842480>"
      ]
     },
     "execution_count": 597,
     "metadata": {},
     "output_type": "execute_result"
    },
    {
     "data": {
      "image/png": "[encoded data removed]",
      "text/plain": [
       "<Figure size 640x480 with 1 Axes>"
      ]
     },
     "metadata": {},
     "output_type": "display_data"
    }
   ],
   "source": [
    "fig = plt.figure()\n",
    "ax = fig.add_subplot()\n",
    "ax.scatter(X_train, y_train)"
   ]
  },
  {
   "cell_type": "code",
   "execution_count": 598,
   "metadata": {},
   "outputs": [
    {
     "data": {
      "text/plain": [
       "array([ 1.65811273e+03,  6.60309323e+02,  3.94379941e+02,  3.29223454e+02,\n",
       "        4.29988718e+02,  1.86258000e+02,  5.53389195e+01,  7.42797587e+01,\n",
       "        5.47800738e+02,  7.39860847e+02,  2.63688150e+02,  2.29594640e+02,\n",
       "        1.26906789e+03,  8.50854165e+02,  8.79265424e+02,  1.65574604e+02,\n",
       "        9.32205979e+01,  3.71272117e+02,  1.15390759e+03,  4.34155703e+02,\n",
       "        5.34448356e+01,  3.20510668e+02,  3.58392346e+02,  7.70469243e+02,\n",
       "        3.44376125e+02,  7.04915909e+01,  1.23525941e+02,  2.35352655e+02,\n",
       "        4.34155703e+02,  2.82628990e+02, -8.30230011e+00,  1.06791618e+03,\n",
       "        2.06865633e+02,  1.20580549e+03,  3.74681468e+02,  2.06865633e+02,\n",
       "        5.13025357e+02,  1.12161437e+02,  3.98074314e+01,  6.21576216e+01,\n",
       "        3.09146164e+02,  1.00796934e+02,  2.44747311e+02,  4.66733946e+02,\n",
       "        3.08284265e+03,  1.93834336e+02,  4.72037381e+02,  1.75802657e+02,\n",
       "        1.31102276e+02,  4.76204366e+02,  1.50800749e+02,  2.23306281e+02,\n",
       "        6.65991575e+02,  1.31102276e+02,  7.50505599e+02,  1.31102276e+02,\n",
       "        2.18230136e+02,  1.86409527e+02,  2.47777846e+02,  5.09919060e+02,\n",
       "        7.75090808e+02,  6.27352263e+02,  1.77696741e+02,  5.09919060e+02,\n",
       "        3.13313149e+02,  3.35663339e+02,  6.20533561e+02,  9.32205979e+01,\n",
       "        3.20510668e+02,  1.37021198e+03,  5.91270874e+01,  1.53831283e+02,\n",
       "        9.26617522e+02,  9.89879924e+02,  2.33003991e+02,  3.36799790e+02,\n",
       "        3.85401983e+02,  2.32246357e+02,  1.28308411e+03,  6.80386612e+02,\n",
       "        1.04585101e+02,  2.11032618e+02,  8.75477256e+02,  1.50043115e+02,\n",
       "        1.72772122e+02,  5.23083853e+01,  2.17691169e+04,  4.81356274e+02,\n",
       "        5.48141673e+02,  9.01994431e+02,  1.61407619e+02,  3.66271735e+02,\n",
       "        1.79789612e+03,  2.82628990e+02, -4.51413227e+00,  5.51967723e+02,\n",
       "        2.94751127e+02,  1.31859910e+02,  5.98941004e+02,  3.96274025e+02,\n",
       "        1.83378992e+02,  6.23564095e+02,  1.97774030e+02,  9.32205979e+01,\n",
       "        1.31859910e+02,  4.17487765e+02,  8.56442622e+01,  1.72772122e+02,\n",
       "        1.79789612e+03,  9.32205979e+01,  2.98918111e+02,  4.24041295e+02,\n",
       "        2.44747311e+02,  9.31542140e+02,  7.75469625e+02,  1.39057429e+02,\n",
       "        6.67034230e+01,  4.30746352e+02,  2.44747311e+02,  1.31102276e+02,\n",
       "        3.28087004e+02,  8.03408272e+01,  8.45171913e+02,  1.31102276e+02,\n",
       "        1.34890444e+02,  1.36756026e+03,  8.18560944e+01,  5.06130892e+02,\n",
       "        2.18230136e+02,  1.47779594e+03,  5.18413935e+03,  9.32205979e+01,\n",
       "        1.38678612e+02,  2.70137415e+03,  5.91270874e+01,  5.67878028e+02,\n",
       "        9.32205979e+01,  3.58392346e+02,  9.32205979e+01,  4.34155703e+02,\n",
       "        5.91270874e+01,  4.80333469e+02,  2.22312734e+04,  6.29152552e+01,\n",
       "        5.46285471e+02,  1.44483888e+03,  1.50043115e+02,  4.21882039e+02,\n",
       "        1.00796934e+02,  1.00796934e+02,  1.68983955e+02,  2.08523803e+04,\n",
       "        1.83539899e+03,  8.47823631e+02,  1.10200969e+03,  2.71264486e+02,\n",
       "        1.17928832e+03,  1.54693626e+00,  9.25102254e+02,  2.82628990e+02,\n",
       "        4.49308374e+02,  1.33753994e+02,  6.99327451e+02,  6.41065430e+02,\n",
       "        6.48982701e+02,  7.91758747e+02,  4.66261335e+01,  1.04783889e+03,\n",
       "        5.85682416e+02,  1.13297887e+02, -7.16584976e+00,  6.67034230e+01,\n",
       "        1.05591707e+04,  5.72802646e+02,  6.48187186e+02,  2.91341776e+02,\n",
       "        2.23154755e+02,  9.32205979e+01,  4.72037381e+02,  5.53389195e+01,\n",
       "        1.90197694e+02,  7.17510657e+02,  3.36922814e+03,  6.21632129e+02,\n",
       "        2.21260671e+02,  9.70087657e+01,  1.83000176e+02,  5.97046920e+02,\n",
       "        2.33382808e+02,  9.01994431e+02,  5.09919060e+02,  8.19033555e+02,\n",
       "        1.10163088e+03,  6.99327451e+02,  8.56442622e+01,  7.52740618e+02,\n",
       "        1.72772122e+02,  5.89470584e+02,  6.97339573e+01,  4.72037381e+02,\n",
       "        3.58392346e+02,  2.74295020e+02,  1.93985862e+02,  7.47134130e+02,\n",
       "        3.20510668e+02,  2.44747311e+02,  4.66430893e+02,  1.71276643e+04,\n",
       "        1.68983955e+02,  3.38315057e+02,  1.50043115e+02,  6.82659513e+02,\n",
       "        1.88303611e+02,  1.61407619e+02,  1.03420149e+03,  1.00796934e+02,\n",
       "        5.53389195e+01,  1.32238727e+02,  1.20874223e+02,  8.56442622e+01,\n",
       "        3.17858950e+02,  5.91270874e+01,  8.46687180e+02,  1.31102276e+02,\n",
       "        1.01980645e+03,  6.68264475e+02,  1.15949605e+02,  2.27283858e+02,\n",
       "        4.34155703e+02,  8.17139471e+02,  2.63688150e+02,  7.90243480e+02,\n",
       "        2.82628990e+02,  4.86811236e+02,  1.51179566e+02,  3.58392346e+02,\n",
       "        5.53389195e+01,  3.12375487e+03,  2.06865633e+02,  2.33382808e+02,\n",
       "        3.12176699e+02,  2.73916204e+02,  2.13011844e+03,  8.78128973e+02,\n",
       "        3.58392346e+02,  9.05688804e+01,  1.00796934e+02,  3.22404752e+02,\n",
       "        1.31102276e+02,  6.87962948e+02,  2.15019573e+03,  3.81500170e+02,\n",
       "        3.11040248e+02,  1.23525941e+02,  6.99327451e+02,  7.45543099e+02,\n",
       "        2.67097501e+02, -6.78703298e+00,  6.10191862e+02,  3.38693874e+02,\n",
       "        1.52476922e+03,  5.38330318e+02,  5.61816959e+02,  5.47800738e+02,\n",
       "        7.04915909e+01,  2.67476318e+02,  2.98738082e+03,  1.36690733e+01,\n",
       "        1.23525941e+02,  2.82628990e+02,  3.58392346e+02,  4.83401885e+02,\n",
       "        6.09273766e+00,  3.16722500e+02,  5.57649974e+02,  1.30050969e+03,\n",
       "        1.92736614e+04,  3.18522789e+01,  3.14070783e+02,  5.35527074e+02,\n",
       "        8.45171913e+02,  6.40517055e+01,  1.11602591e+03,  7.61738426e+01,\n",
       "        2.95129943e+02,  2.30551061e+03,  1.76400140e+04,  1.07814423e+03,\n",
       "        7.65526594e+01,  1.04518717e+03,  3.39451507e+02,  8.56442622e+01,\n",
       "        7.04915909e+01,  3.98281754e+02,  5.53389195e+01,  1.78454374e+02,\n",
       "        8.21306456e+02,  5.47800738e+02,  2.44747311e+02,  3.41724408e+02,\n",
       "        6.61445773e+02,  1.74572412e+01,  1.23232267e+03,  1.31102276e+02,\n",
       "        3.96274025e+02,  1.03827468e+02,  6.98191001e+02,  1.28209919e+03,\n",
       "        1.01404844e+03,  5.47800738e+02,  2.30096481e+03,  2.53952559e+02,\n",
       "        5.47800738e+02,  4.72037381e+02,  9.77663993e+01,  7.74711991e+02,\n",
       "        7.61311257e+03,  1.15949605e+02,  1.68983955e+02,  1.70357074e+03,\n",
       "        4.32640436e+02,  1.31102276e+02,  2.45883762e+02,  2.06865633e+02,\n",
       "        2.61036433e+02,  9.32205979e+01,  1.88227847e+02,  3.31875171e+02,\n",
       "        5.46285471e+02,  3.58392346e+02,  5.97425737e+02,  2.52172120e+02,\n",
       "        1.90955328e+02,  9.32205979e+01,  1.89676730e+03,  1.61028802e+02,\n",
       "        1.71560756e+04,  2.33382808e+02,  4.75370969e+02,  5.59922875e+02,\n",
       "        3.21411205e+04,  2.82486842e+03,  1.68983955e+02,  5.53823925e+02,\n",
       "        2.73158570e+02,  2.17254592e+03,  7.42797587e+01,  3.00357615e+02,\n",
       "        5.63644659e+03,  2.06865633e+02,  8.94324300e+01,  9.32205979e+01,\n",
       "        4.58684999e+01,  9.42149010e+02,  3.37557423e+02,  6.67847777e+02,\n",
       "        5.18669727e+02,  7.05009703e+02,  1.20921484e+03,  8.50854165e+02,\n",
       "        5.48179555e+02,  2.52323647e+02,  5.09919060e+02,  9.32205979e+01,\n",
       "        1.43073734e+04,  2.10653801e+02,  1.45156379e+02,  1.15163469e+03,\n",
       "        6.80386612e+02,  1.27314108e+02,  6.48187186e+02,  7.77363709e+02,\n",
       "        1.31102276e+02,  1.53831283e+02,  6.99327451e+02,  1.15949605e+02,\n",
       "        4.34155703e+02,  3.71650934e+02,  4.00327364e+02,  2.03077465e+02,\n",
       "        8.56442622e+01,  1.15390759e+03,  7.47323538e+02,  4.29155321e+02,\n",
       "        2.78462005e+02,  3.01569829e+02,  5.05752075e+02,  4.47793107e+02,\n",
       "        2.14441969e+02,  1.38081884e+03,  4.43095779e+02,  1.16015807e+03,\n",
       "        6.00835088e+02,  9.99653397e+02,  3.59149980e+02,  1.16754500e+03,\n",
       "        1.08079595e+03,  6.61445773e+02,  3.01191012e+02,  7.42797587e+01,\n",
       "        5.82273065e+02,  9.70087657e+01,  7.57950258e+01,  1.42466780e+02,\n",
       "        7.17965237e+02,  3.74151125e+02,  9.03888515e+02,  4.34155703e+02,\n",
       "        8.03880884e+02,  3.23541202e+02,  3.94834521e+02,  7.21677642e+02,\n",
       "        1.19341818e+03,  4.39744160e+01,  1.52704212e+03,  2.82628990e+02,\n",
       "        5.53389195e+01,  1.74572412e+01,  1.54210100e+02,  1.34435864e+02,\n",
       "        6.67034230e+01,  8.91008744e+02,  2.82628990e+02,  1.83378992e+02,\n",
       "        3.07158286e+01,  3.30359904e+02,  1.27314108e+02,  3.62180514e+02,\n",
       "        1.11602591e+03,  1.59030453e+03,  6.85037123e+00,  7.04915909e+01,\n",
       "        6.24700545e+02,  1.15996866e+03,  7.12964856e+02,  2.65203418e+02,\n",
       "        2.92326699e+02,  5.97804553e+02,  3.86424788e+02,  9.32205979e+01,\n",
       "        7.87212945e+02,  1.00796934e+02,  4.78893965e+02,  2.55732998e+02,\n",
       "        8.88735843e+02,  1.01533641e+03,  7.73196724e+02,  2.44747311e+02,\n",
       "        3.20510668e+02,  1.99289297e+02,  1.99668114e+02,  1.00730550e+03,\n",
       "        6.65233941e+02,  8.12972487e+02,  1.59419740e+01,  5.02456369e+02,\n",
       "        1.11602591e+03,  7.61832221e+02,  2.25087567e+04,  1.42466780e+02,\n",
       "        6.70158559e+02,  9.61468666e+02,  2.75052654e+02,  3.12934332e+02,\n",
       "        1.07814423e+03,  3.16722500e+02,  8.03880884e+02,  1.03647439e+03,\n",
       "        4.28549215e+02,  4.00630418e+02,  2.17169449e+02,  1.65195787e+02,\n",
       "        1.31102276e+02,  1.42466780e+02,  1.68983955e+02,  7.43649015e+02,\n",
       "        2.56414868e+02,  9.70087657e+01,  3.39451507e+02,  4.72037381e+02,\n",
       "        2.10805327e+02,  1.68766982e+04,  8.94324300e+01,  3.20510668e+02,\n",
       "        1.27314108e+02,  5.33452961e+03,  4.49687191e+02,  8.18560944e+01,\n",
       "        2.92099409e+02,  8.68658554e+02,  3.58392346e+02,  1.00796934e+02,\n",
       "        2.99419953e+03,  4.28852268e+02,  1.53452466e+02,  2.68612769e+02,\n",
       "        5.09540243e+02,  4.41353222e+02,  8.40247295e+02,  1.08041714e+03,\n",
       "        1.07814423e+03,  8.18560944e+01,  1.23525941e+02,  7.40618481e+02,\n",
       "        1.31102276e+02,  5.85682416e+02,  3.80894063e+02,  4.93866608e+03,\n",
       "        2.31394929e+01,  1.31102276e+02,  9.44043094e+02,  5.09919060e+02,\n",
       "        9.37792617e+02,  7.67135656e+02,  9.28417811e+01,  1.01457878e+03,\n",
       "        1.05721552e+02,  1.38678612e+02,  1.04783889e+03,  2.06865633e+02,\n",
       "        2.50335768e+01,  7.42797587e+01,  9.32205979e+01,  9.32205979e+01,\n",
       "        4.69385664e+02,  2.52323647e+02,  1.23525941e+02,  9.35330308e+02,\n",
       "        6.92129933e+02,  7.37284893e+02,  1.76863344e+02,  1.11602591e+03,\n",
       "        1.80348458e+02,  1.68425109e+03,  1.87962675e+02,  6.63529265e+02,\n",
       "        1.57628831e+03,  7.27644916e+01,  2.61700272e+01,  1.68983955e+02,\n",
       "        9.50861796e+02,  1.46254948e+02,  6.67034230e+01,  3.05357997e+02,\n",
       "        3.20510668e+02,  3.96274025e+02,  5.53389195e+01,  8.94324300e+01,\n",
       "        3.94379941e+02,  1.23525941e+02,  2.09896167e+02,  2.98918111e+02,\n",
       "        5.09919060e+02,  1.00796934e+02,  8.52104260e+02,  8.50854165e+02,\n",
       "        2.52323647e+02,  1.76560290e+02,  1.21290922e+02,  5.53389195e+01,\n",
       "        2.82628990e+02,  8.26609891e+02,  1.00796934e+02,  3.30738721e+02,\n",
       "        5.85682416e+02,  4.28852268e+02,  3.96274025e+02, -8.30230011e+00,\n",
       "        3.26099125e+01,  8.78128973e+02,  3.63980803e+01,  5.39087952e+02,\n",
       "        1.12161437e+02,  5.47800738e+02,  4.53096542e+02,  2.37549792e+02,\n",
       "        5.47800738e+02,  7.56149969e+02,  1.39739299e+02,  1.07918689e+02,\n",
       "        2.31109907e+02,  4.20139482e+02,  3.76575552e+02,  7.39860847e+02,\n",
       "        6.85975069e+01,  3.32253988e+02,  2.73916204e+02,  7.76227259e+02,\n",
       "        1.35316522e+03,  3.96274025e+02,  5.11358563e+02,  3.04221546e+02,\n",
       "        1.86788343e+02,  1.11602591e+03,  4.34155703e+02,  4.45141390e+02,\n",
       "        8.12972487e+02,  4.76204366e+02,  1.34890444e+02,  1.00796934e+02,\n",
       "        3.30700839e+02,  4.34155703e+02,  7.11449589e+02,  4.72037381e+02,\n",
       "        3.20510668e+02,  3.72825266e+02,  1.19737773e+02,  5.62044249e+02,\n",
       "        9.06919049e+02,  1.99668114e+02,  5.06888525e+02,  1.34890444e+02,\n",
       "        8.03123250e+02,  4.72037381e+02,  1.60848773e+03,  6.11441958e+02,\n",
       "        1.89725083e+01,  1.74572412e+01,  1.80348458e+02,  3.62407804e+02,\n",
       "        3.61877461e+02,  1.75802657e+02,  3.47027843e+02,  4.22033566e+02,\n",
       "        5.66741577e+02,  2.63129305e+03,  4.34155703e+02,  1.61407619e+02,\n",
       "        1.21073011e+03,  2.20881854e+02,  1.59513535e+02,  3.34346860e+03,\n",
       "        2.84144257e+02,  9.70087657e+01,  3.58392346e+02,  3.04600363e+02,\n",
       "        3.38315057e+02,  1.04291427e+03,  1.31102276e+02,  9.32205979e+01,\n",
       "        3.68620399e+02,  2.82628990e+02,  2.44747311e+02,  3.74832995e+02,\n",
       "        5.09919060e+02,  5.91270874e+01,  5.85682416e+02,  1.14918176e+04,\n",
       "        8.19336608e+02,  2.25427655e+02,  7.33799779e+02,  1.09509720e+02,\n",
       "        1.00238088e+03,  4.34155703e+02,  1.57619451e+02,  2.76946738e+02,\n",
       "        1.53196674e+03,  1.71248232e+04,  2.02983670e+01,  2.10653801e+02,\n",
       "        2.15540537e+02,  7.31526878e+02,  1.29785797e+03,  5.99319821e+02,\n",
       "        4.89084137e+02,  3.92940437e+02,  8.56442622e+01,  8.45078118e+01,\n",
       "        8.35701494e+02,  1.68605138e+02,  9.32205979e+01,  1.31102276e+02,\n",
       "        2.93993493e+02,  7.10691955e+02,  1.10646170e+02,  4.39004558e+02,\n",
       "        6.47618961e+02,  2.32700938e+02,  5.85682416e+02,  2.56869448e+02,\n",
       "        8.18560944e+01,  1.95378861e+04,  5.95152836e+02,  1.53272438e+03,\n",
       "        6.03107988e+02,  9.70087657e+01,  9.32205979e+01,  2.50050746e+02,\n",
       "        6.81523063e+02,  2.94599600e+02,  4.22791200e+02,  4.72037381e+02,\n",
       "        9.74727253e+02,  2.10653801e+02])"
      ]
     },
     "execution_count": 598,
     "metadata": {},
     "output_type": "execute_result"
    }
   ],
   "source": [
    "y_pred = model.predict(X_train)\n",
    "y_pred"
   ]
  },
  {
   "cell_type": "code",
   "execution_count": 599,
   "metadata": {},
   "outputs": [
    {
     "data": {
      "text/plain": [
       "[<matplotlib.lines.Line2D at 0x174a43a40>]"
      ]
     },
     "execution_count": 599,
     "metadata": {},
     "output_type": "execute_result"
    },
    {
     "data": {
      "image/png": "[encoded data removed]",
      "text/plain": [
       "<Figure size 640x480 with 1 Axes>"
      ]
     },
     "metadata": {},
     "output_type": "display_data"
    }
   ],
   "source": [
    "fig = plt.figure()\n",
    "ax = fig.add_subplot()\n",
    "ax.scatter(X_train, y_train, c='b')\n",
    "ax.plot(X_train, y_pred, c='r')"
   ]
  },
  {
   "cell_type": "markdown",
   "metadata": {},
   "source": [
    "Test the Model Performance"
   ]
  },
  {
   "cell_type": "code",
   "execution_count": 600,
   "metadata": {},
   "outputs": [],
   "source": [
    "y_test_pred = model.predict(X_test)"
   ]
  },
  {
   "cell_type": "code",
   "execution_count": 601,
   "metadata": {},
   "outputs": [
    {
     "data": {
      "text/plain": [
       "96.79702703120434"
      ]
     },
     "execution_count": 601,
     "metadata": {},
     "output_type": "execute_result"
    }
   ],
   "source": [
    "model.score(X_test, y_test) * 100"
   ]
  },
  {
   "cell_type": "code",
   "execution_count": 602,
   "metadata": {},
   "outputs": [
    {
     "data": {
      "text/plain": [
       "0.9702284934603687"
      ]
     },
     "execution_count": 602,
     "metadata": {},
     "output_type": "execute_result"
    }
   ],
   "source": [
    "model.score(X_train, y_train)"
   ]
  },
  {
   "cell_type": "markdown",
   "metadata": {},
   "source": [
    "Evaluation Metrics"
   ]
  },
  {
   "cell_type": "code",
   "execution_count": 603,
   "metadata": {},
   "outputs": [
    {
     "data": {
      "text/html": [
       "<div>\n",
       "<style scoped>\n",
       "    .dataframe tbody tr th:only-of-type {\n",
       "        vertical-align: middle;\n",
       "    }\n",
       "\n",
       "    .dataframe tbody tr th {\n",
       "        vertical-align: top;\n",
       "    }\n",
       "\n",
       "    .dataframe thead th {\n",
       "        text-align: right;\n",
       "    }\n",
       "</style>\n",
       "<table border=\"1\" class=\"dataframe\">\n",
       "  <thead>\n",
       "    <tr style=\"text-align: right;\">\n",
       "      <th></th>\n",
       "      <th>Metrics</th>\n",
       "      <th>Values</th>\n",
       "    </tr>\n",
       "  </thead>\n",
       "  <tbody>\n",
       "    <tr>\n",
       "      <th>0</th>\n",
       "      <td>MSE</td>\n",
       "      <td>244553.97</td>\n",
       "    </tr>\n",
       "    <tr>\n",
       "      <th>1</th>\n",
       "      <td>RMSE</td>\n",
       "      <td>494.52</td>\n",
       "    </tr>\n",
       "    <tr>\n",
       "      <th>2</th>\n",
       "      <td>MAE</td>\n",
       "      <td>211.73</td>\n",
       "    </tr>\n",
       "    <tr>\n",
       "      <th>3</th>\n",
       "      <td>R2</td>\n",
       "      <td>97.02</td>\n",
       "    </tr>\n",
       "  </tbody>\n",
       "</table>\n",
       "</div>"
      ],
      "text/plain": [
       "  Metrics     Values\n",
       "0     MSE  244553.97\n",
       "1    RMSE     494.52\n",
       "2     MAE     211.73\n",
       "3      R2      97.02"
      ]
     },
     "execution_count": 603,
     "metadata": {},
     "output_type": "execute_result"
    }
   ],
   "source": [
    "# Training Score\n",
    "y_pred = model.predict(X_train)\n",
    "mse = round(mean_squared_error(y_train, y_pred), 2)\n",
    "rmse = round(math.sqrt(mse), 2)\n",
    "mae = round(mean_absolute_error(y_train, y_pred), 2)\n",
    "train_r2 = round(model.score(X_train, y_train) * 100, 2)\n",
    "\n",
    "df_evaluation = pd.DataFrame([\n",
    "    ['MSE', mse],\n",
    "    ['RMSE', rmse],\n",
    "    ['MAE', mae],\n",
    "    ['R2', train_r2]\n",
    "])\n",
    "df_evaluation.columns = ['Metrics', 'Values']\n",
    "df_evaluation"
   ]
  },
  {
   "cell_type": "code",
   "execution_count": 604,
   "metadata": {},
   "outputs": [
    {
     "data": {
      "text/html": [
       "<div>\n",
       "<style scoped>\n",
       "    .dataframe tbody tr th:only-of-type {\n",
       "        vertical-align: middle;\n",
       "    }\n",
       "\n",
       "    .dataframe tbody tr th {\n",
       "        vertical-align: top;\n",
       "    }\n",
       "\n",
       "    .dataframe thead th {\n",
       "        text-align: right;\n",
       "    }\n",
       "</style>\n",
       "<table border=\"1\" class=\"dataframe\">\n",
       "  <thead>\n",
       "    <tr style=\"text-align: right;\">\n",
       "      <th></th>\n",
       "      <th>Metrics</th>\n",
       "      <th>Values</th>\n",
       "    </tr>\n",
       "  </thead>\n",
       "  <tbody>\n",
       "    <tr>\n",
       "      <th>0</th>\n",
       "      <td>MSE</td>\n",
       "      <td>106644.91</td>\n",
       "    </tr>\n",
       "    <tr>\n",
       "      <th>1</th>\n",
       "      <td>RMSE</td>\n",
       "      <td>326.57</td>\n",
       "    </tr>\n",
       "    <tr>\n",
       "      <th>2</th>\n",
       "      <td>MAE</td>\n",
       "      <td>159.85</td>\n",
       "    </tr>\n",
       "    <tr>\n",
       "      <th>3</th>\n",
       "      <td>R2</td>\n",
       "      <td>96.80</td>\n",
       "    </tr>\n",
       "  </tbody>\n",
       "</table>\n",
       "</div>"
      ],
      "text/plain": [
       "  Metrics     Values\n",
       "0     MSE  106644.91\n",
       "1    RMSE     326.57\n",
       "2     MAE     159.85\n",
       "3      R2      96.80"
      ]
     },
     "execution_count": 604,
     "metadata": {},
     "output_type": "execute_result"
    }
   ],
   "source": [
    "# Test Score\n",
    "y_pred = model.predict(X_test)\n",
    "mse = round(mean_squared_error(y_test, y_pred), 2)\n",
    "rmse = round(math.sqrt(mse), 2)\n",
    "mae = round(mean_absolute_error(y_test, y_pred), 2)\n",
    "test_r2 = round(model.score(X_test, y_test) * 100, 2)\n",
    "\n",
    "df_evaluation = pd.DataFrame([\n",
    "    ['MSE', mse],\n",
    "    ['RMSE', rmse],\n",
    "    ['MAE', mae],\n",
    "    ['R2', test_r2]\n",
    "])\n",
    "df_evaluation.columns = ['Metrics', 'Values']\n",
    "df_evaluation"
   ]
  },
  {
   "cell_type": "code",
   "execution_count": 605,
   "metadata": {},
   "outputs": [
    {
     "data": {
      "text/plain": [
       "0.21999999999999886"
      ]
     },
     "execution_count": 605,
     "metadata": {},
     "output_type": "execute_result"
    }
   ],
   "source": [
    "#Deviation\n",
    "\n",
    "abs(train_r2 - test_r2)"
   ]
  },
  {
   "cell_type": "code",
   "execution_count": null,
   "metadata": {},
   "outputs": [],
   "source": []
  }
 ],
 "metadata": {
  "kernelspec": {
   "display_name": ".venv",
   "language": "python",
   "name": "python3"
  },
  "language_info": {
   "codemirror_mode": {
    "name": "ipython",
    "version": 3
   },
   "file_extension": ".py",
   "mimetype": "text/x-python",
   "name": "python",
   "nbconvert_exporter": "python",
   "pygments_lexer": "ipython3",
   "version": "3.12.4"
  }
 },
 "nbformat": 4,
 "nbformat_minor": 2
}
